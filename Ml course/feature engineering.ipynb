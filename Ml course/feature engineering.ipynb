{
 "cells": [
  {
   "cell_type": "markdown",
   "metadata": {},
   "source": [
    "# Drop missing rows"
   ]
  },
  {
   "cell_type": "code",
   "execution_count": 5,
   "metadata": {},
   "outputs": [
    {
     "name": "stdout",
     "output_type": "stream",
     "text": [
      "Initial dataset:\n",
      "   Feature1  Feature2 Feature3\n",
      "0       1.0       7.0        A\n",
      "1       2.0       NaN        B\n",
      "2       3.0       9.0     None\n",
      "3       NaN      10.0        C\n",
      "4       5.0      11.0        D\n",
      "5       6.0      12.0        E\n",
      "Dataset after removing rows with missing values:\n",
      "   Feature1  Feature2 Feature3\n",
      "0       1.0       7.0        A\n",
      "4       5.0      11.0        D\n",
      "5       6.0      12.0        E\n",
      "\n",
      "Dataset after listwise deletion based on specific columns:\n",
      "   Feature1  Feature2 Feature3\n",
      "0       1.0       7.0        A\n",
      "2       3.0       9.0     None\n",
      "4       5.0      11.0        D\n",
      "5       6.0      12.0        E\n"
     ]
    }
   ],
   "source": [
    "import pandas as pd\n",
    "# Sample dataset with missing values\n",
    "data = {\n",
    "    'Feature1': [1, 2, 3, None, 5, 6],\n",
    "    'Feature2': [7, None, 9, 10, 11, 12],\n",
    "    'Feature3': ['A', 'B', None, 'C', 'D', 'E'],\n",
    "}\n",
    "df = pd.DataFrame(data)\n",
    "print(\"Initial dataset:\")\n",
    "print(df)\n",
    "# Method 1: Removal of Rows with Missing Values\n",
    "# This method removes rows containing any missing values from the dataset.\n",
    "df_removed = df.dropna()\n",
    "print(\"Dataset after removing rows with missing values:\")\n",
    "print(df_removed)\n",
    "# Method 2: Listwise Deletion (Removal of Rows with Any Missing Values in Specific Columns)\n",
    "# In this method, we remove rows with missing values in specific columns.\n",
    "# Specify the columns where missing values should be considered for removal\n",
    "columns_to_check = ['Feature1', 'Feature2']\n",
    "df_listwise_deleted = df.dropna(subset=columns_to_check)\n",
    "print(\"\\nDataset after listwise deletion based on specific columns:\")\n",
    "print(df_listwise_deleted)\n"
   ]
  },
  {
   "cell_type": "markdown",
   "metadata": {},
   "source": [
    "# Fill with mean"
   ]
  },
  {
   "cell_type": "code",
   "execution_count": 24,
   "metadata": {},
   "outputs": [
    {
     "name": "stdout",
     "output_type": "stream",
     "text": [
      "   Feature1  Feature2 Feature3\n",
      "0       1.0       7.0        A\n",
      "1       2.0       NaN        B\n",
      "2       NaN       9.0        C\n",
      "3       4.0      10.0     None\n",
      "4       5.0       NaN        D\n",
      "5       6.0      12.0        E\n",
      "Dataset after mean imputation:\n",
      "   Feature1  Feature2 Feature3\n",
      "0       1.0       7.0        A\n",
      "1       2.0       9.5        B\n",
      "2       3.6       9.0        C\n",
      "3       4.0      10.0     None\n",
      "4       5.0       9.5        D\n",
      "5       6.0      12.0        E\n",
      "\n",
      "Dataset after median imputation:\n",
      "   Feature1  Feature2 Feature3\n",
      "0       1.0       7.0        A\n",
      "1       2.0       9.5        B\n",
      "2       4.0       9.0        C\n",
      "3       4.0      10.0     None\n",
      "4       5.0       9.5        D\n",
      "5       6.0      12.0        E\n",
      "\n",
      "Dataset after mode imputation:\n",
      "   Feature1  Feature2 Feature3\n",
      "0       1.0       7.0        A\n",
      "1       2.0       NaN        B\n",
      "2       NaN       9.0        C\n",
      "3       4.0      10.0        D\n",
      "4       5.0       NaN        D\n",
      "5       6.0      12.0        E\n"
     ]
    }
   ],
   "source": [
    "import pandas as pd\n",
    "import numpy as np\n",
    "\n",
    "# Create a sample dataset with missing values\n",
    "data = {\n",
    "    'Feature1': [1, 2, None, 4, 5, 6],\n",
    "    'Feature2': [7, None, 9, 10, None, 12],\n",
    "    'Feature3': ['A', 'B', 'C', None, 'D', 'E'],\n",
    "}\n",
    "\n",
    "df = pd.DataFrame(data)\n",
    "print(df)\n",
    "# Method 1: Mean Imputation\n",
    "mean_imputed_df = df.copy()\n",
    "mean_imputed_df['Feature1'].fillna(df['Feature1'].mean(), inplace=True)\n",
    "mean_imputed_df['Feature2'].fillna(df['Feature2'].mean(), inplace=True)\n",
    "\n",
    "print(\"Dataset after mean imputation:\")\n",
    "print(mean_imputed_df)\n",
    "\n",
    "# Method 2: Median Imputation\n",
    "median_imputed_df = df.copy()\n",
    "median_imputed_df['Feature1'].fillna(df['Feature1'].median(), inplace=True)\n",
    "median_imputed_df['Feature2'].fillna(df['Feature2'].median(), inplace=True)\n",
    "\n",
    "print(\"\\nDataset after median imputation:\")\n",
    "print(median_imputed_df)\n",
    "\n",
    "# Method 3: Mode Imputation (for categorical data)\n",
    "mode_imputed_df = df.copy()\n",
    "mode_imputed_df['Feature3'].fillna(df['Feature3'].mode(), inplace=True)\n",
    "\n",
    "print(\"\\nDataset after mode imputation:\")\n",
    "print(mode_imputed_df)\n"
   ]
  },
  {
   "cell_type": "markdown",
   "metadata": {},
   "source": [
    "# Forward fill and backward fill in time-series data"
   ]
  },
  {
   "cell_type": "code",
   "execution_count": 25,
   "metadata": {},
   "outputs": [
    {
     "name": "stdout",
     "output_type": "stream",
     "text": [
      "   Feature1  Feature2 Feature3       date\n",
      "0       1.0       7.0        A 2023-09-01\n",
      "1       2.0       9.0        B 2023-09-02\n",
      "2       NaN       9.0        C 2023-09-03\n",
      "3       4.0      10.0     None 2023-09-04\n",
      "4       5.0      12.0        D 2023-09-05\n",
      "5       6.0      12.0        E 2023-09-06\n"
     ]
    }
   ],
   "source": [
    "import pandas as pd\n",
    "\n",
    "# Sample time series data with missing values\n",
    "date_time = pd.Series(['2023-09-01', '2023-09-02', '2023-09-03', '2023-09-04', '2023-09-05', '2023-09-06'])\n",
    "\n",
    "# Convert 'Date' column to datetime type\n",
    "df['date'] = pd.to_datetime(date_time)\n",
    "# Backward fill missing values in 'Value' column\n",
    "df['Feature2'].fillna(method='bfill', inplace=True)\n",
    "\n",
    "print(df)\n"
   ]
  },
  {
   "cell_type": "code",
   "execution_count": 19,
   "metadata": {},
   "outputs": [
    {
     "data": {
      "text/plain": [
       "{'Feature1': {0: 1.0, 1: 2.0, 2: nan, 3: 4.0, 4: 5.0, 5: 6.0},\n",
       " 'Feature2': {0: 7.0, 1: 9.0, 2: 9.0, 3: 10.0, 4: 12.0, 5: 12.0},\n",
       " 'Feature3': {0: 'A', 1: 'B', 2: 'C', 3: None, 4: 'D', 5: 'E'},\n",
       " 'date': {0: Timestamp('2023-09-01 00:00:00'),\n",
       "  1: Timestamp('2023-09-02 00:00:00'),\n",
       "  2: Timestamp('2023-09-03 00:00:00'),\n",
       "  3: Timestamp('2023-09-04 00:00:00'),\n",
       "  4: Timestamp('2023-09-05 00:00:00'),\n",
       "  5: Timestamp('2023-09-06 00:00:00')}}"
      ]
     },
     "execution_count": 19,
     "metadata": {},
     "output_type": "execute_result"
    }
   ],
   "source": [
    "df.to_dict()"
   ]
  },
  {
   "cell_type": "markdown",
   "metadata": {},
   "source": [
    "# IMpute missing values in categorical data"
   ]
  },
  {
   "cell_type": "code",
   "execution_count": 26,
   "metadata": {},
   "outputs": [
    {
     "name": "stdout",
     "output_type": "stream",
     "text": [
      "   Feature1  Feature2 Feature3       date\n",
      "0       1.0       7.0        A 2023-09-01\n",
      "1       2.0       9.0        B 2023-09-02\n",
      "2       NaN       9.0        C 2023-09-03\n",
      "3       4.0      10.0        C 2023-09-04\n",
      "4       5.0      12.0        D 2023-09-05\n",
      "5       6.0      12.0        E 2023-09-06\n"
     ]
    }
   ],
   "source": [
    "import pandas as pd\n",
    "\n",
    "# Sample DataFrame with a categorical column containing missing values\n",
    "# data = {'Category': ['A', 'B', 'A', 'C', None, 'B', 'A', None, 'C', 'A']}\n",
    "# df = pd.DataFrame(data)\n",
    "\n",
    "# Impute missing values in the 'Category' column with the most frequent value\n",
    "# most_frequent_category = df['Feature'].mode()[0]\n",
    "# df['Category'].fillna(most_frequent_category, inplace=True)\n",
    "df['Feature3'].fillna('C', inplace=True)\n",
    "\n",
    "print(df)\n"
   ]
  },
  {
   "cell_type": "code",
   "execution_count": 44,
   "metadata": {},
   "outputs": [
    {
     "name": "stdout",
     "output_type": "stream",
     "text": [
      "        date  Feature1 Categorical_feature\n",
      "0 2023-09-01       1.0                   A\n",
      "1 2023-09-02       2.0                   B\n",
      "2 2023-09-03       NaN                   C\n",
      "3 2023-09-04       4.0                   A\n",
      "4        NaT       NaN                None\n",
      "5 2023-09-06       6.0                   C\n",
      "6 2023-09-07       NaN                None\n",
      "        date  Feature1 Categorical_feature\n",
      "0 2023-09-01       1.0                   A\n",
      "1 2023-09-02       2.0                   B\n",
      "2 2023-09-03       NaN                   C\n",
      "3 2023-09-04       4.0                   A\n",
      "5 2023-09-06       6.0                   C\n",
      "6 2023-09-07       NaN                None\n",
      "ffill         date  Feature1 Categorical_feature\n",
      "0 2023-09-01       1.0                   A\n",
      "1 2023-09-02       2.0                   B\n",
      "2 2023-09-03       2.0                   C\n",
      "3 2023-09-04       4.0                   A\n",
      "5 2023-09-06       6.0                   C\n",
      "6 2023-09-07       6.0                None\n",
      "categorical         date  Feature1 Categorical_feature\n",
      "0 2023-09-01       1.0                   A\n",
      "1 2023-09-02       2.0                   B\n",
      "2 2023-09-03       2.0                   C\n",
      "3 2023-09-04       4.0                   A\n",
      "5 2023-09-06       6.0                   C\n",
      "6 2023-09-07       6.0             Unknown\n",
      "        date  Feature1 Categorical_feature\n",
      "0 2023-09-01       1.0                   A\n",
      "1 2023-09-02       2.0                   B\n",
      "2 2023-09-03       2.0                   C\n",
      "3 2023-09-04       4.0                   A\n",
      "5 2023-09-06       6.0                   C\n",
      "6 2023-09-07       6.0             Unknown\n"
     ]
    },
    {
     "name": "stderr",
     "output_type": "stream",
     "text": [
      "/var/folders/7k/wfl69q3s5_g7fkb1n0hdylcm0000gn/T/ipykernel_89821/3699667198.py:25: SettingWithCopyWarning: \n",
      "A value is trying to be set on a copy of a slice from a DataFrame\n",
      "\n",
      "See the caveats in the documentation: https://pandas.pydata.org/pandas-docs/stable/user_guide/indexing.html#returning-a-view-versus-a-copy\n",
      "  df_cleaned['Feature1'].fillna(method='ffill', inplace=True)\n",
      "/var/folders/7k/wfl69q3s5_g7fkb1n0hdylcm0000gn/T/ipykernel_89821/3699667198.py:29: SettingWithCopyWarning: \n",
      "A value is trying to be set on a copy of a slice from a DataFrame\n",
      "\n",
      "See the caveats in the documentation: https://pandas.pydata.org/pandas-docs/stable/user_guide/indexing.html#returning-a-view-versus-a-copy\n",
      "  df_cleaned['Categorical_feature'].fillna('Unknown', inplace=True)\n"
     ]
    }
   ],
   "source": [
    "import pandas as pd\n",
    "import numpy as np\n",
    "from datetime import datetime\n",
    "\n",
    "# Create a sample dataset\n",
    "data = {\n",
    "    'date': [datetime(2023, 9, 1), datetime(2023, 9, 2), datetime(2023, 9, 3), datetime(2023, 9, 4), None, datetime(2023, 9, 6), datetime(2023, 9, 7)],\n",
    "    'Feature1': [1, 2, None, 4, None, 6, None],\n",
    "    'Categorical_feature': ['A', 'B', 'C', 'A', None, 'C', None]\n",
    "}\n",
    "\n",
    "df = pd.DataFrame(data)\n",
    "\n",
    "# 1. Remove rows with all missing values\n",
    "df_cleaned = df.dropna(how='all')\n",
    "\n",
    "print(df)\n",
    "print(df_cleaned)\n",
    "# 2. Fill missing values in 'Feature1' column with the mean\n",
    "# mean_feature1 = df_cleaned['Feature1'].mean()\n",
    "# df_cleaned['Feature1'].fillna(mean_feature1, inplace=True)\n",
    "# print('mean', df_cleaned)\n",
    "\n",
    "# 3. Forward fill missing values in 'date' column\n",
    "df_cleaned['Feature1'].fillna(method='ffill', inplace=True)\n",
    "print('ffill', df_cleaned)\n",
    "\n",
    "# 4. Fill missing values in 'Categorical_feature' with a specific value (e.g., 'Unknown')\n",
    "df_cleaned['Categorical_feature'].fillna('Unknown', inplace=True)\n",
    "print('categorical', df_cleaned)\n",
    "\n",
    "# Display the cleaned DataFrame\n",
    "print(df_cleaned)\n"
   ]
  },
  {
   "cell_type": "code",
   "execution_count": 37,
   "metadata": {},
   "outputs": [
    {
     "data": {
      "text/html": [
       "<div>\n",
       "<style scoped>\n",
       "    .dataframe tbody tr th:only-of-type {\n",
       "        vertical-align: middle;\n",
       "    }\n",
       "\n",
       "    .dataframe tbody tr th {\n",
       "        vertical-align: top;\n",
       "    }\n",
       "\n",
       "    .dataframe thead th {\n",
       "        text-align: right;\n",
       "    }\n",
       "</style>\n",
       "<table border=\"1\" class=\"dataframe\">\n",
       "  <thead>\n",
       "    <tr style=\"text-align: right;\">\n",
       "      <th></th>\n",
       "      <th>date</th>\n",
       "      <th>Feature1</th>\n",
       "      <th>Categorical_feature</th>\n",
       "    </tr>\n",
       "  </thead>\n",
       "  <tbody>\n",
       "    <tr>\n",
       "      <th>0</th>\n",
       "      <td>2023-09-01</td>\n",
       "      <td>1.0</td>\n",
       "      <td>A</td>\n",
       "    </tr>\n",
       "    <tr>\n",
       "      <th>1</th>\n",
       "      <td>2023-09-02</td>\n",
       "      <td>2.0</td>\n",
       "      <td>B</td>\n",
       "    </tr>\n",
       "    <tr>\n",
       "      <th>2</th>\n",
       "      <td>2023-09-03</td>\n",
       "      <td>NaN</td>\n",
       "      <td>C</td>\n",
       "    </tr>\n",
       "    <tr>\n",
       "      <th>3</th>\n",
       "      <td>NaT</td>\n",
       "      <td>4.0</td>\n",
       "      <td>A</td>\n",
       "    </tr>\n",
       "    <tr>\n",
       "      <th>4</th>\n",
       "      <td>NaT</td>\n",
       "      <td>NaN</td>\n",
       "      <td>None</td>\n",
       "    </tr>\n",
       "    <tr>\n",
       "      <th>5</th>\n",
       "      <td>2023-09-06</td>\n",
       "      <td>6.0</td>\n",
       "      <td>C</td>\n",
       "    </tr>\n",
       "    <tr>\n",
       "      <th>6</th>\n",
       "      <td>2023-09-07</td>\n",
       "      <td>NaN</td>\n",
       "      <td>None</td>\n",
       "    </tr>\n",
       "  </tbody>\n",
       "</table>\n",
       "</div>"
      ],
      "text/plain": [
       "        date  Feature1 Categorical_feature\n",
       "0 2023-09-01       1.0                   A\n",
       "1 2023-09-02       2.0                   B\n",
       "2 2023-09-03       NaN                   C\n",
       "3        NaT       4.0                   A\n",
       "4        NaT       NaN                None\n",
       "5 2023-09-06       6.0                   C\n",
       "6 2023-09-07       NaN                None"
      ]
     },
     "execution_count": 37,
     "metadata": {},
     "output_type": "execute_result"
    }
   ],
   "source": [
    "df"
   ]
  }
 ],
 "metadata": {
  "kernelspec": {
   "display_name": "env",
   "language": "python",
   "name": "python3"
  },
  "language_info": {
   "codemirror_mode": {
    "name": "ipython",
    "version": 3
   },
   "file_extension": ".py",
   "mimetype": "text/x-python",
   "name": "python",
   "nbconvert_exporter": "python",
   "pygments_lexer": "ipython3",
   "version": "3.9.15"
  },
  "orig_nbformat": 4
 },
 "nbformat": 4,
 "nbformat_minor": 2
}
