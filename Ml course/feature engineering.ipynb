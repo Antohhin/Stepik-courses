{
 "cells": [
  {
   "cell_type": "markdown",
   "metadata": {},
   "source": [
    "# Drop missing rows"
   ]
  },
  {
   "cell_type": "code",
   "execution_count": 5,
   "metadata": {},
   "outputs": [
    {
     "name": "stdout",
     "output_type": "stream",
     "text": [
      "Initial dataset:\n",
      "   Feature1  Feature2 Feature3\n",
      "0       1.0       7.0        A\n",
      "1       2.0       NaN        B\n",
      "2       3.0       9.0     None\n",
      "3       NaN      10.0        C\n",
      "4       5.0      11.0        D\n",
      "5       6.0      12.0        E\n",
      "Dataset after removing rows with missing values:\n",
      "   Feature1  Feature2 Feature3\n",
      "0       1.0       7.0        A\n",
      "4       5.0      11.0        D\n",
      "5       6.0      12.0        E\n",
      "\n",
      "Dataset after listwise deletion based on specific columns:\n",
      "   Feature1  Feature2 Feature3\n",
      "0       1.0       7.0        A\n",
      "2       3.0       9.0     None\n",
      "4       5.0      11.0        D\n",
      "5       6.0      12.0        E\n"
     ]
    }
   ],
   "source": [
    "import pandas as pd\n",
    "# Sample dataset with missing values\n",
    "data = {\n",
    "    'Feature1': [1, 2, 3, None, 5, 6],\n",
    "    'Feature2': [7, None, 9, 10, 11, 12],\n",
    "    'Feature3': ['A', 'B', None, 'C', 'D', 'E'],\n",
    "}\n",
    "df = pd.DataFrame(data)\n",
    "print(\"Initial dataset:\")\n",
    "print(df)\n",
    "# Method 1: Removal of Rows with Missing Values\n",
    "# This method removes rows containing any missing values from the dataset.\n",
    "df_removed = df.dropna()\n",
    "print(\"Dataset after removing rows with missing values:\")\n",
    "print(df_removed)\n",
    "# Method 2: Listwise Deletion (Removal of Rows with Any Missing Values in Specific Columns)\n",
    "# In this method, we remove rows with missing values in specific columns.\n",
    "# Specify the columns where missing values should be considered for removal\n",
    "columns_to_check = ['Feature1', 'Feature2']\n",
    "df_listwise_deleted = df.dropna(subset=columns_to_check)\n",
    "print(\"\\nDataset after listwise deletion based on specific columns:\")\n",
    "print(df_listwise_deleted)\n"
   ]
  },
  {
   "cell_type": "markdown",
   "metadata": {},
   "source": [
    "# Fill with mean"
   ]
  },
  {
   "cell_type": "code",
   "execution_count": 8,
   "metadata": {},
   "outputs": [
    {
     "name": "stdout",
     "output_type": "stream",
     "text": [
      "   Feature1  Feature2 Feature3\n",
      "0       1.0       7.0        A\n",
      "1       2.0       NaN        B\n",
      "2       NaN       9.0        C\n",
      "3       4.0      10.0     None\n",
      "4       5.0       NaN        D\n",
      "5       6.0      12.0        E\n",
      "Dataset after mean imputation:\n",
      "   Feature1  Feature2 Feature3\n",
      "0       1.0       7.0        A\n",
      "1       2.0       9.5        B\n",
      "2       3.6       9.0        C\n",
      "3       4.0      10.0     None\n",
      "4       5.0       9.5        D\n",
      "5       6.0      12.0        E\n",
      "\n",
      "Dataset after median imputation:\n",
      "   Feature1  Feature2 Feature3\n",
      "0       1.0       7.0        A\n",
      "1       2.0       9.5        B\n",
      "2       4.0       9.0        C\n",
      "3       4.0      10.0     None\n",
      "4       5.0       9.5        D\n",
      "5       6.0      12.0        E\n",
      "\n",
      "Dataset after mode imputation:\n",
      "   Feature1  Feature2 Feature3\n",
      "0       1.0       7.0        A\n",
      "1       2.0       NaN        B\n",
      "2       NaN       9.0        C\n",
      "3       4.0      10.0        D\n",
      "4       5.0       NaN        D\n",
      "5       6.0      12.0        E\n"
     ]
    }
   ],
   "source": [
    "import pandas as pd\n",
    "import numpy as np\n",
    "\n",
    "# Create a sample dataset with missing values\n",
    "data = {\n",
    "    'Feature1': [1, 2, None, 4, 5, 6],\n",
    "    'Feature2': [7, None, 9, 10, None, 12],\n",
    "    'Feature3': ['A', 'B', 'C', None, 'D', 'E'],\n",
    "}\n",
    "\n",
    "df = pd.DataFrame(data)\n",
    "print(df)\n",
    "# Method 1: Mean Imputation\n",
    "mean_imputed_df = df.copy()\n",
    "mean_imputed_df['Feature1'].fillna(df['Feature1'].mean(), inplace=True)\n",
    "mean_imputed_df['Feature2'].fillna(df['Feature2'].mean(), inplace=True)\n",
    "\n",
    "print(\"Dataset after mean imputation:\")\n",
    "print(mean_imputed_df)\n",
    "\n",
    "# Method 2: Median Imputation\n",
    "median_imputed_df = df.copy()\n",
    "median_imputed_df['Feature1'].fillna(df['Feature1'].median(), inplace=True)\n",
    "median_imputed_df['Feature2'].fillna(df['Feature2'].median(), inplace=True)\n",
    "\n",
    "print(\"\\nDataset after median imputation:\")\n",
    "print(median_imputed_df)\n",
    "\n",
    "# Method 3: Mode Imputation (for categorical data)\n",
    "mode_imputed_df = df.copy()\n",
    "mode_imputed_df['Feature3'].fillna(df['Feature3'].mode(), inplace=True)\n",
    "\n",
    "print(\"\\nDataset after mode imputation:\")\n",
    "print(mode_imputed_df)\n"
   ]
  },
  {
   "cell_type": "code",
   "execution_count": null,
   "metadata": {},
   "outputs": [],
   "source": []
  }
 ],
 "metadata": {
  "kernelspec": {
   "display_name": "env",
   "language": "python",
   "name": "python3"
  },
  "language_info": {
   "codemirror_mode": {
    "name": "ipython",
    "version": 3
   },
   "file_extension": ".py",
   "mimetype": "text/x-python",
   "name": "python",
   "nbconvert_exporter": "python",
   "pygments_lexer": "ipython3",
   "version": "3.9.15"
  },
  "orig_nbformat": 4
 },
 "nbformat": 4,
 "nbformat_minor": 2
}
