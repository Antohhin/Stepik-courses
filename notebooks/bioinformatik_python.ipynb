{
 "cells": [
  {
   "cell_type": "markdown",
   "id": "f03ea317",
   "metadata": {},
   "source": [
    "# Курс Python stepik\n",
    "**Здесь собраны решение некоторых задач с курса института биоинформатики https://stepik.org/course/67/info**"
   ]
  },
  {
   "cell_type": "markdown",
   "id": "5681ee06",
   "metadata": {},
   "source": [
    "# 2 часть"
   ]
  },
  {
   "cell_type": "markdown",
   "id": "af19aa43",
   "metadata": {},
   "source": [
    "### 2.6 Последовательность."
   ]
  },
  {
   "cell_type": "code",
   "execution_count": 62,
   "id": "f67317fd",
   "metadata": {},
   "outputs": [
    {
     "name": "stdout",
     "output_type": "stream",
     "text": [
      "99\n",
      "1 2 2 3 3 3 4 4 4 4 5 5 5 5 5 6 6 6 6 6 6 7 7 7 7 7 7 7 8 8 8 8 8 8 8 8 9 9 9 9 9 9 9 9 9 10 10 10 10 10 10 10 10 10 10 11 11 11 11 11 11 11 11 11 11 11 12 12 12 12 12 12 12 12 12 12 12 12 13 13 13 13 13 13 13 13 13 13 13 13 13 14 14 14 14 14 14 14 14 "
     ]
    }
   ],
   "source": [
    "sequence_length = int(input()) ##введи длину последовательности\n",
    "sequence = []\n",
    "for i in range(1, sequence_length+1):\n",
    "    sequence += [i] * i\n",
    "print(*sequence[0:sequence_length], end = ' ') #получи 1 2 2 3 3"
   ]
  },
  {
   "cell_type": "markdown",
   "id": "a2c72220",
   "metadata": {},
   "source": [
    "### Индексы. Количество вхождений элемента"
   ]
  },
  {
   "cell_type": "code",
   "execution_count": 3,
   "id": "95ee6b09",
   "metadata": {},
   "outputs": [
    {
     "name": "stdout",
     "output_type": "stream",
     "text": [
      "1 2 1 3\n",
      "1\n",
      "0 2 "
     ]
    }
   ],
   "source": [
    "list_of_numbers = [int(i) for i in input().split()] #введи список чисел\n",
    "desired_value = int(input()) #введи число, которое надо проверить\n",
    "if desired_value not in list_of_numbers:\n",
    "    print('Отсутствует')\n",
    "else:\n",
    "    for i in range(len(list_of_numbers)):\n",
    "        if list_of_numbers[i] == desired_value:\n",
    "            print(i, end = ' ') #получи количество вхождений числа\n",
    "            "
   ]
  },
  {
   "cell_type": "markdown",
   "id": "650d6703",
   "metadata": {},
   "source": [
    "# 3 часть"
   ]
  },
  {
   "cell_type": "markdown",
   "id": "908db27d",
   "metadata": {},
   "source": [
    "### Функции"
   ]
  },
  {
   "cell_type": "code",
   "execution_count": 1,
   "id": "7926799f",
   "metadata": {},
   "outputs": [
    {
     "data": {
      "text/plain": [
       "10555"
      ]
     },
     "execution_count": 1,
     "metadata": {},
     "output_type": "execute_result"
    }
   ],
   "source": [
    "# Пример функции\n",
    "def f(n):\n",
    "    return n * 10 + 5\n",
    "f(f(f(10)))"
   ]
  },
  {
   "attachments": {
    "image.png": {
     "image/png": "[encoded data removed]"
    }
   },
   "cell_type": "markdown",
   "id": "05bfb4e3",
   "metadata": {},
   "source": [
    "1. Функция f(x), которая возвращает значение следующей функции, определённой на всей числовой прямой: ![image.png](attachment:image.png)"
   ]
  },
  {
   "cell_type": "code",
   "execution_count": 14,
   "id": "39627a8a",
   "metadata": {},
   "outputs": [
    {
     "data": {
      "text/plain": [
       "-0.5"
      ]
     },
     "execution_count": 14,
     "metadata": {},
     "output_type": "execute_result"
    }
   ],
   "source": [
    "def func(x):\n",
    "    if x <= -2:\n",
    "        return 1 - (x + 2)**2\n",
    "    if -2 < x <= 2:\n",
    "        return - x / 2\n",
    "    else:\n",
    "        return (x - 2)**2 + 1\n",
    "        \n",
    "func(1)"
   ]
  },
  {
   "cell_type": "markdown",
   "id": "10801779",
   "metadata": {},
   "source": [
    "## Словари"
   ]
  },
  {
   "cell_type": "markdown",
   "id": "903097c1",
   "metadata": {},
   "source": [
    "Напишите функцию update_dictionary(d, key, value), которая принимает на вход словарь d и два числа: key и valuevalue.\n",
    "\n",
    "- Если ключ keykey есть в словаре d, то добавьте значение value в список, который хранится по этому ключу.\n",
    "- Если ключа keykey нет в словаре, то нужно добавить значение в список по ключу 2 * key. \n",
    "- Если и ключа 2∗key нет, то нужно добавить ключ 2∗key в словарь и сопоставить ему список из переданного элемента [value].\n"
   ]
  },
  {
   "cell_type": "code",
   "execution_count": 13,
   "id": "bcb51e36",
   "metadata": {},
   "outputs": [
    {
     "name": "stdout",
     "output_type": "stream",
     "text": [
      "None\n",
      "{2: [-1]}\n",
      "{2: [-1, -2]}\n",
      "{2: [-1, -2, -3]}\n"
     ]
    }
   ],
   "source": [
    "d = {}\n",
    "def update_dictionary(d, key, value):\n",
    "    if key in d:\n",
    "        d[key]+=[value]\n",
    "    elif 2 * key in d:\n",
    "        d[2 * key]+=[value]\n",
    "    else:\n",
    "        d.update({2 * key : [value]}) #добавляю новую пару ключ, значение\n",
    "            \n",
    "            \n",
    "print(update_dictionary(d, 1, -1))  # None\n",
    "print(d)\n",
    "\n",
    "update_dictionary(d, 2, -2)\n",
    "print(d)\n",
    "\n",
    "update_dictionary(d, 1, -3)\n",
    "print(d) "
   ]
  },
  {
   "cell_type": "markdown",
   "id": "53c20732",
   "metadata": {},
   "source": [
    "Когда Антон прочитал «Войну и мир», ему стало интересно, сколько слов и в каком количестве используется в этой книге.\n",
    "\n",
    "Помогите Антону написать упрощённую версию такой программы, которая сможет подсчитать слова, разделённые пробелом и вывести получившуюся статистику.\n",
    "\n",
    "Программа должна считывать одну строку со стандартного ввода и выводить для каждого уникального слова в этой строке число его повторений (без учёта регистра) в формате \"слово количество\" (см. пример вывода).\n",
    "Порядок вывода слов может быть произвольным, каждое уникальное слово﻿ должно выводиться только один раз."
   ]
  },
  {
   "cell_type": "code",
   "execution_count": 43,
   "id": "c50476df",
   "metadata": {},
   "outputs": [
    {
     "name": "stdout",
     "output_type": "stream",
     "text": [
      "sa sa S a Sa\n",
      "sa   3\n",
      "s   1\n",
      "a   1\n"
     ]
    }
   ],
   "source": [
    "s = input().lower().split()\n",
    "mult = {}\n",
    "for i in s:\n",
    "    value = s.count(i)\n",
    "    mult.update({i:value})\n",
    "for key, value in mult.items():\n",
    "    print(key, ' ', value)"
   ]
  },
  {
   "cell_type": "markdown",
   "id": "bc62bd7b",
   "metadata": {},
   "source": [
    "Четное нечетное"
   ]
  },
  {
   "cell_type": "code",
   "execution_count": null,
   "id": "b0425bc3",
   "metadata": {},
   "outputs": [],
   "source": [
    "def even(a):\n",
    "    if a % 2 == 0:\n",
    "        print(a, 'Четное')\n",
    "    else:\n",
    "        print(a, 'Нечетное')"
   ]
  },
  {
   "cell_type": "markdown",
   "id": "c61d041e",
   "metadata": {},
   "source": [
    "- Напишите программу, которая считывает строку с числом nn, которое задаёт количество чисел, которые нужно считать.\n",
    "- Далее считывает nn строк с числами x_i, по одному числу в каждой строке. Итого будет n+1n+1 строк.\n",
    "- При считывании числа x_i программа должна на отдельной строке вывести значение f(x_i). Функция f(x) уже реализована и доступна для вызова. \n",
    "- Функция вычисляется достаточно долго и зависит только от переданного аргумента xx. Для того, чтобы уложиться в ограничение по времени, нужно избежать повторного вычисления значений"
   ]
  },
  {
   "cell_type": "code",
   "execution_count": null,
   "id": "764e4882",
   "metadata": {},
   "outputs": [],
   "source": [
    "def f(x):\n",
    "    return x+1"
   ]
  },
  {
   "cell_type": "code",
   "execution_count": 21,
   "id": "87934b4e",
   "metadata": {},
   "outputs": [
    {
     "name": "stdout",
     "output_type": "stream",
     "text": [
      "4\n",
      "34\n",
      "35\n",
      "22\n",
      "23\n",
      "34\n",
      "35\n",
      "5\n",
      "6\n"
     ]
    }
   ],
   "source": [
    "d = {}\n",
    "for i in range(int(input()):\n",
    "    key = int(input())\n",
    "    if key in d:\n",
    "        print(d[key]) # поиск значения по ключу\n",
    "    else:\n",
    "        value = f(key) \n",
    "        d.update({key:value}) #добавление нового ключ-значения\n",
    "        print(value)"
   ]
  },
  {
   "cell_type": "markdown",
   "id": "b98ad4c2",
   "metadata": {},
   "source": [
    "a=[int(input()) for i in range(int(input()))]\n",
    "b={x:f(x) for x in set(a)}\n",
    "for i in a:\n",
    "    print(b[i])"
   ]
  },
  {
   "cell_type": "code",
   "execution_count": 23,
   "id": "1dbf54b8",
   "metadata": {},
   "outputs": [
    {
     "name": "stdout",
     "output_type": "stream",
     "text": [
      "4\n",
      "43\n",
      "53\n",
      "34\n",
      "34\n",
      "44\n",
      "54\n",
      "35\n",
      "35\n"
     ]
    }
   ],
   "source": [
    "#Решение чувака со степика через list comprehension and dict comp\n",
    "a=[int(input()) for i in range(int(input()))]\n",
    "b={x:f(x) for x in set(a)}\n",
    "for i in a:\n",
    "    print(b[i])"
   ]
  },
  {
   "cell_type": "markdown",
   "id": "1f5bbcd0",
   "metadata": {},
   "source": [
    "# 3.4 Файловый ввод\\вывод"
   ]
  },
  {
   "cell_type": "markdown",
   "id": "2eaa3baf",
   "metadata": {},
   "source": [
    "- Напишите программу, которая считывает из файла строку, соответствующую тексту, сжатому с помощью кодирования повторов\n",
    "- и производит обратную операцию, получая исходный текст.\n",
    "- Запишите полученный текст в файл и прикрепите его, как ответ на это задание.\n",
    "- В исходном тексте не встречаются цифры, так что код однозначно интерпретируем."
   ]
  },
  {
   "cell_type": "code",
   "execution_count": 32,
   "id": "7dde51be",
   "metadata": {},
   "outputs": [
    {
     "name": "stdout",
     "output_type": "stream",
     "text": [
      "ddcsfffas\n",
      "d2c1s1f3a1s1"
     ]
    }
   ],
   "source": [
    "# алгоритм сжатия строки 'aaabbccd'\n",
    "\n",
    "dnk = input()\n",
    "s = 1\n",
    "j = 1\n",
    "m = len(dnk)\n",
    "for i in dnk:\n",
    "    if j == m:\n",
    "        print(str(i) + str(s), end='')\n",
    "    elif i == dnk[j]:\n",
    "        j += 1\n",
    "        s += 1\n",
    "    else:\n",
    "        print(str(i) + str(s), end='')\n",
    "        j += 1\n",
    "        s = 1"
   ]
  },
  {
   "cell_type": "code",
   "execution_count": 5,
   "id": "566443a4",
   "metadata": {},
   "outputs": [],
   "source": [
    "# алгоритм восстановления строки\n",
    "\n",
    "with open('C:/Users/tosha/Python/text.py', 'r') as inf:\n",
    "    line = inf.readline()"
   ]
  },
  {
   "cell_type": "code",
   "execution_count": 21,
   "id": "21344cab",
   "metadata": {},
   "outputs": [
    {
     "name": "stdout",
     "output_type": "stream",
     "text": [
      "Буква\n",
      "Число\n",
      "Буква\n",
      "Число\n",
      "Буква\n",
      "Число\n",
      "Буква\n",
      "Число\n",
      "Число\n",
      "Буква\n",
      "Число\n"
     ]
    }
   ],
   "source": [
    "# line = a3b4c2e10b1\n",
    "for i in line:\n",
    "    if '0'<= i <= '9':\n",
    "        print(\"Число\")\n",
    "    else:\n",
    "        print(\"Буква\")"
   ]
  },
  {
   "cell_type": "markdown",
   "id": "b80f307f",
   "metadata": {},
   "source": [
    "## 3.4 Самое частое слово в тексте"
   ]
  },
  {
   "cell_type": "markdown",
   "id": "cd2fab5e",
   "metadata": {},
   "source": [
    "Недавно мы считали для каждого слова количество его вхождений в строку. Но на все слова может быть не так интересно смотреть, как, например, на наиболее часто используемые.\n",
    "\n",
    "Напишите программу, которая считывает текст из файла (в файле может быть больше одной строки) и выводит самое частое слово в этом тексте и через пробел то, сколько раз оно встретилось. Если таких слов несколько, вывести лексикографически первое (можно использовать оператор < для строк).\n",
    "\n",
    "В качестве ответа укажите вывод программы, а не саму программу."
   ]
  },
  {
   "cell_type": "code",
   "execution_count": null,
   "id": "92dcab2f",
   "metadata": {},
   "outputs": [],
   "source": [
    "with open('dataset_3363_2.txt', 'r') as f:\n",
    "    # for line in f:\n",
    "    s = inf.readlines().strip().lower()"
   ]
  },
  {
   "cell_type": "code",
   "execution_count": 109,
   "id": "cce2cf6a",
   "metadata": {},
   "outputs": [
    {
     "name": "stdout",
     "output_type": "stream",
     "text": [
      "u 10\n"
     ]
    }
   ],
   "source": [
    "with open('dataset_3363_3.txt', 'r') as inf:\n",
    "    # for line in f:\n",
    "    s = inf.read().lower().split()\n",
    "dictionary = dict()\n",
    "lst_max = []\n",
    "for word in s:\n",
    "    if word not in dictionary:\n",
    "        dictionary[word] = 1\n",
    "    else:\n",
    "        dictionary[word]+=1\n",
    "        \n",
    "max_number = max(dictionary.values())\n",
    "\n",
    "for word, count in dictionary.items():\n",
    "    if count == max_number:\n",
    "        lst_max.append(word)\n",
    "        \n",
    "if len(lst_max) == 1:\n",
    "    print(lst_max[0], max_number)\n",
    "else:\n",
    "    #for i in range(len(lst_max)):\n",
    "        if lst_max[0] < lst_max[1]:\n",
    "            print(lst_max[0], max_number)\n",
    "        else:\n",
    "            print(lst_max[1], max_number)"
   ]
  },
  {
   "cell_type": "code",
   "execution_count": 81,
   "id": "48a53c73",
   "metadata": {},
   "outputs": [
    {
     "data": {
      "text/plain": [
       "False"
      ]
     },
     "execution_count": 81,
     "metadata": {},
     "output_type": "execute_result"
    }
   ],
   "source": [
    "one > two"
   ]
  },
  {
   "cell_type": "code",
   "execution_count": 120,
   "id": "9ddf8e06",
   "metadata": {},
   "outputs": [],
   "source": [
    "lst = lst.split()"
   ]
  },
  {
   "cell_type": "code",
   "execution_count": 4,
   "id": "7faec135",
   "metadata": {},
   "outputs": [
    {
     "name": "stdout",
     "output_type": "stream",
     "text": [
      "u 10\n"
     ]
    }
   ],
   "source": [
    "# Решение чувака со степика через именнованный параметр в max()\n",
    "# чтение файла в переменной inf и запись файла в переменную ouf\n",
    "with open('dataset_3363_3.txt') as inf, open('MostPopularWord.txt','w') as ouf:\n",
    "    text = inf.read().lower().strip().split()\n",
    "\n",
    "    # Именной параметр key через который передаём в функцию max() действие count -- подсчет аргументов\n",
    "    popular_word = max(set(text), key=text.count)\n",
    "    print(popular_word, text.count(popular_word))\n",
    "    \n",
    "    # запись в файл\n",
    "    ouf.write(popular_word +' ' + str(text.count(popular_word)))"
   ]
  },
  {
   "cell_type": "markdown",
   "id": "d0cbc03c",
   "metadata": {},
   "source": [
    "## 3.4.2 \n",
    "Имеется файл с данными по успеваемости абитуриентов. Он представляет из себя набор строк, где в каждой строке записана следующая информация:\n",
    "\n",
    "Фамилия;Оценка_по_математике;Оценка_по_физике;Оценка_по_русскому_языку\n",
    "\n",
    "Поля внутри строки разделены точкой с запятой, оценки — целые числа.\n",
    "\n",
    "Напишите программу, которая считывает исходный файл с подобной структурой и для каждого абитуриента записывает его среднюю оценку по трём предметам на отдельной строке, соответствующей этому абитуриенту, в файл с ответом.\n",
    "\n",
    "Также вычислите средние баллы по математике, физике и русскому языку по всем абитуриентам и добавьте полученные значения, разделённые пробелом, последней строкой в файл с ответом.\n",
    "\n",
    "В качестве ответа на задание прикрепите полученный файл со средними оценками по каждому ученику и одной строкой со средними оценками по трём предметам.\n",
    "\n",
    "Примечание. Для разбиения строки на части по символу ';' можно использовать метод split следующим образом:\n",
    "\n",
    "print('First;Second-1 Second-2;Third'.split(';'))\n",
    "['First', 'Second-1 Second-2', 'Third']"
   ]
  },
  {
   "cell_type": "code",
   "execution_count": null,
   "id": "4102193f",
   "metadata": {},
   "outputs": [],
   "source": [
    "with open('dataset_3363_2.txt', 'r') as f:\n",
    "    # for line in f:\n",
    "    s = inf.readlines()"
   ]
  },
  {
   "cell_type": "code",
   "execution_count": 1,
   "id": "6231dc07",
   "metadata": {},
   "outputs": [],
   "source": [
    "s = '''Петров;85;92;78\n",
    "Сидоров;100;88;94\n",
    "Иванов;58;72;85'''"
   ]
  },
  {
   "cell_type": "code",
   "execution_count": 17,
   "id": "552a936a",
   "metadata": {},
   "outputs": [
    {
     "data": {
      "text/plain": [
       "['Петров',\n",
       " '85',\n",
       " '92',\n",
       " '78',\n",
       " 'Сидоров',\n",
       " '100',\n",
       " '88',\n",
       " '94',\n",
       " 'Иванов',\n",
       " '58',\n",
       " '72',\n",
       " '85']"
      ]
     },
     "execution_count": 17,
     "metadata": {},
     "output_type": "execute_result"
    }
   ],
   "source": [
    "s.replace('\\n', ';').split(';')"
   ]
  },
  {
   "cell_type": "code",
   "execution_count": null,
   "id": "143c25f1",
   "metadata": {},
   "outputs": [],
   "source": [
    "print(sum([number_one, number_two, number_three]) / (len(lst)-1)) for surname, number_one, number_two, number_three in lst"
   ]
  },
  {
   "cell_type": "code",
   "execution_count": null,
   "id": "4152c7ce",
   "metadata": {},
   "outputs": [],
   "source": []
  }
 ],
 "metadata": {
  "kernelspec": {
   "display_name": "Python 3 (ipykernel)",
   "language": "python",
   "name": "python3"
  },
  "language_info": {
   "codemirror_mode": {
    "name": "ipython",
    "version": 3
   },
   "file_extension": ".py",
   "mimetype": "text/x-python",
   "name": "python",
   "nbconvert_exporter": "python",
   "pygments_lexer": "ipython3",
   "version": "3.8.8"
  }
 },
 "nbformat": 4,
 "nbformat_minor": 5
}
