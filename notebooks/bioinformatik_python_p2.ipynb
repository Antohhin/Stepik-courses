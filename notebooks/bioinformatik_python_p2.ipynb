{
 "cells": [
  {
   "cell_type": "markdown",
   "metadata": {},
   "source": [
    "# Stepik. Задания с курса Питона \n",
    "продолжение"
   ]
  },
  {
   "cell_type": "code",
   "execution_count": 3,
   "metadata": {},
   "outputs": [
    {
     "name": "stdout",
     "output_type": "stream",
     "text": [
      "/Users/antonmazilin\n"
     ]
    }
   ],
   "source": [
    "cd ~"
   ]
  },
  {
   "cell_type": "markdown",
   "metadata": {},
   "source": [
    "## 3.1 Функции"
   ]
  },
  {
   "cell_type": "markdown",
   "metadata": {},
   "source": [
    "Напишите функцию modify_list(l), которая принимает на вход список целых чисел, удаляет из него все нечётные значения, а чётные нацело делит на два. Функция не должна ничего возвращать, требуется только изменение переданного списка,"
   ]
  },
  {
   "cell_type": "code",
   "execution_count": 1,
   "metadata": {},
   "outputs": [],
   "source": [
    "def modify_list(lst):\n",
    "    i=0\n",
    "    for _ in range(len(lst)):\n",
    "        # print(lst)\n",
    "        if lst[i]%2 != 0:\n",
    "            lst.remove(lst[i])\n",
    "            # i = 0\n",
    "        else:\n",
    "           lst[i] = lst[i] // 2\n",
    "           i += 1\n",
    "    # print(lst)\n",
    "\n",
    "\n",
    "    # update_list = [lst[-i] for i in range(len(lst))]"
   ]
  },
  {
   "cell_type": "code",
   "execution_count": 4,
   "metadata": {},
   "outputs": [],
   "source": [
    "res = modify_list([1, 2, 3, 4, 5, 6])"
   ]
  },
  {
   "cell_type": "code",
   "execution_count": 86,
   "metadata": {},
   "outputs": [
    {
     "name": "stdout",
     "output_type": "stream",
     "text": [
      "None\n",
      "[1, 2, 3]\n",
      "[1]\n",
      "[5, 4]\n"
     ]
    }
   ],
   "source": [
    "lst = [1, 2, 3, 4, 5, 6]\n",
    "print(modify_list(lst))  # None\n",
    "print(lst)               # [1, 2, 3]\n",
    "modify_list(lst)\n",
    "print(lst)               # [1]\n",
    "\n",
    "lst = [10, 5, 8, 3]\n",
    "modify_list(lst)\n",
    "print(lst)  "
   ]
  },
  {
   "cell_type": "markdown",
   "metadata": {},
   "source": [
    "### 3.4 Файловый ввод/вывод"
   ]
  },
  {
   "cell_type": "code",
   "execution_count": 36,
   "metadata": {},
   "outputs": [],
   "source": [
    "#3.4.2 раскодирование повторов\n",
    "\n",
    "#чтение файла (передаю недостающий путь к файлу, чтобы корректно работало в любой ОС), ouf файл на запись\n",
    "with open(os.path.join('Downloads', 'dataset_3363_2.txt')) as inf, open(os.path.join('Downloads', 'output.txt'), 'w') as ouf:\n",
    "    #проход по всем строкам файла\n",
    "    for line in inf:\n",
    "        # убираем лишние символ в конце строки\n",
    "        decode = line.strip()\n",
    "        result = ''\n",
    "        num = ''\n",
    "        for char in decode:\n",
    "            # если символ число, запиши в переменною строкой\n",
    "            if char.isdigit():\n",
    "                num = num + char\n",
    "            else: \n",
    "                # если список из цифр не пуст, и переменная char - буква, проведи умножение\n",
    "                if num != '':\n",
    "                    result += letter * int(num)\n",
    "                    num = ''\n",
    "                letter = char\n",
    "                # добавить последний символ\n",
    "        result += letter * int(num)\n",
    "        # записать результат в файл\n",
    "    ouf.write(result)"
   ]
  },
  {
   "cell_type": "code",
   "execution_count": 20,
   "metadata": {},
   "outputs": [
    {
     "name": "stdout",
     "output_type": "stream",
     "text": [
      "aaabbbbcceeeeeeeeeeb\n"
     ]
    }
   ],
   "source": [
    "a = 'a3b4c2e10b1'\n",
    "c = ''\n",
    "i = 0\n",
    "while i < len(a)-1:\n",
    "    if a[i].isalpha():\n",
    "        s = a[i]\n",
    "        i += 1\n",
    "        p = a[i]\n",
    "        while i < len(a) - 1 and a[i+1].isdigit():\n",
    "            i += 1\n",
    "            p += a[i]\n",
    "        c += s * int(p)\n",
    "    else: i += 1\n",
    " \n",
    "print(c) #aaabbbbcceeeeeeeeeeb"
   ]
  },
  {
   "cell_type": "markdown",
   "metadata": {},
   "source": [
    "## 3.4.4\n",
    "Найти среднюю оценку по предметам"
   ]
  },
  {
   "cell_type": "markdown",
   "metadata": {},
   "source": [
    "Имеется файл с данными по успеваемости абитуриентов. Он представляет из себя набор строк, где в каждой строке записана следующая информация:\n",
    "\n",
    "Фамилия;Оценка_по_математике;Оценка_по_физике;Оценка_по_русскому_языку\n",
    "\n",
    "Поля внутри строки разделены точкой с запятой, оценки — целые числа.\n",
    "\n",
    "Напишите программу, которая считывает исходный файл с подобной структурой и для каждого абитуриента записывает его среднюю оценку по трём предметам на отдельной строке, соответствующей этому абитуриенту, в файл с ответом.\n",
    "\n",
    "Также вычислите средние баллы по математике, физике и русскому языку по всем абитуриентам и добавьте полученные значения, разделённые пробелом, последней строкой в файл с ответом.\n",
    "\n",
    "В качестве ответа на задание прикрепите полученный файл со средними оценками по каждому ученику и одной строкой со средними оценками по трём предметам."
   ]
  },
  {
   "cell_type": "markdown",
   "metadata": {},
   "source": [
    "**Sample Input:**\n",
    "\n",
    "Петров;85;92;78\n",
    "Сидоров;100;88;94\n",
    "Иванов;58;72;85"
   ]
  },
  {
   "cell_type": "markdown",
   "metadata": {},
   "source": [
    "**Sample Output:**\n",
    "\n",
    "85.0\n",
    "94.0\n",
    "71.666666667\n",
    "81.0 84.0 85.666666667"
   ]
  },
  {
   "cell_type": "code",
   "execution_count": 4,
   "metadata": {},
   "outputs": [],
   "source": [
    "lst = [['Петров',85,92,78], ['Сидоров',100,88,94], ['Иванов',58,72,85]]"
   ]
  },
  {
   "cell_type": "code",
   "execution_count": 5,
   "metadata": {},
   "outputs": [
    {
     "data": {
      "text/plain": [
       "[['Петров', 85, 92, 78], ['Сидоров', 100, 88, 94], ['Иванов', 58, 72, 85]]"
      ]
     },
     "execution_count": 5,
     "metadata": {},
     "output_type": "execute_result"
    }
   ],
   "source": [
    "lst"
   ]
  },
  {
   "cell_type": "code",
   "execution_count": 9,
   "metadata": {},
   "outputs": [],
   "source": [
    "with open(os.path.join('Downloads', 'dataset_3363_4.txt')) as inf, open(os.path.join('Downloads', 'output.txt'), 'w') as ouf:\n",
    "    #проход по всем строкам файла\n",
    "    for line in inf:\n",
    "        # убираем лишние символ в конце строки\n",
    "        lst = line.strip().split(';')"
   ]
  },
  {
   "cell_type": "code",
   "execution_count": 11,
   "metadata": {},
   "outputs": [
    {
     "data": {
      "text/plain": [
       "['Bush', '67', '82', '89']"
      ]
     },
     "execution_count": 11,
     "metadata": {},
     "output_type": "execute_result"
    }
   ],
   "source": [
    "lst"
   ]
  },
  {
   "cell_type": "code",
   "execution_count": 22,
   "metadata": {},
   "outputs": [],
   "source": [
    "numbers = lst[1:]"
   ]
  },
  {
   "cell_type": "code",
   "execution_count": 8,
   "metadata": {},
   "outputs": [
    {
     "data": {
      "text/plain": [
       "['Raleigh',\n",
       " '46',\n",
       " '72',\n",
       " '30\\nChapman',\n",
       " '53',\n",
       " '52',\n",
       " '71\\nLeapman',\n",
       " '76',\n",
       " '98',\n",
       " '61\\nBoolman',\n",
       " '100',\n",
       " '65',\n",
       " '32\\nHarrison',\n",
       " '46',\n",
       " '52',\n",
       " '66\\nNelson',\n",
       " '30',\n",
       " '54',\n",
       " '55\\nDurham',\n",
       " '64',\n",
       " '73',\n",
       " '66\\nBawerman',\n",
       " '29',\n",
       " '69',\n",
       " '63\\nVance',\n",
       " '26',\n",
       " '34',\n",
       " '95\\nAyrton',\n",
       " '44',\n",
       " '97',\n",
       " '37\\nAdrian',\n",
       " '62',\n",
       " '55',\n",
       " '53\\nMurphy',\n",
       " '47',\n",
       " '89',\n",
       " '66\\nGalbraith',\n",
       " '79',\n",
       " '41',\n",
       " '66\\nAdderiy',\n",
       " '36',\n",
       " '93',\n",
       " '39\\nKirk',\n",
       " '98',\n",
       " '62',\n",
       " '79\\nEdwards',\n",
       " '89',\n",
       " '60',\n",
       " '55\\nMichaelson',\n",
       " '71',\n",
       " '83',\n",
       " '85\\nCramer',\n",
       " '38',\n",
       " '45',\n",
       " '70\\nRamacey',\n",
       " '30',\n",
       " '36',\n",
       " '91\\nDodson',\n",
       " '81',\n",
       " '75',\n",
       " '26\\nWood',\n",
       " '94',\n",
       " '43',\n",
       " '76\\nDutton',\n",
       " '79',\n",
       " '26',\n",
       " '61\\nEnderson',\n",
       " '95',\n",
       " '70',\n",
       " '40\\nBlack',\n",
       " '41',\n",
       " '71',\n",
       " '42\\nRoger',\n",
       " '96',\n",
       " '43',\n",
       " '93\\nReynolds',\n",
       " '31',\n",
       " '33',\n",
       " '28\\nSykes',\n",
       " '96',\n",
       " '34',\n",
       " '31\\nSalisburry',\n",
       " '90',\n",
       " '86',\n",
       " '70\\nHawkins',\n",
       " '98',\n",
       " '68',\n",
       " '49\\nAdamson',\n",
       " '86',\n",
       " '71',\n",
       " '41\\nShackley',\n",
       " '48',\n",
       " '44',\n",
       " '74\\nGilbert',\n",
       " '25',\n",
       " '36',\n",
       " '93\\nTaft',\n",
       " '84',\n",
       " '54',\n",
       " '76\\nDyson',\n",
       " '75',\n",
       " '96',\n",
       " '100\\nMercer',\n",
       " '66',\n",
       " '25',\n",
       " '70\\nCalhoun',\n",
       " '79',\n",
       " '44',\n",
       " '43\\nCarrington',\n",
       " '24',\n",
       " '48',\n",
       " '30\\nAudley',\n",
       " '60',\n",
       " '46',\n",
       " '71\\nNevill',\n",
       " '36',\n",
       " '74',\n",
       " '95\\nThornton',\n",
       " '59',\n",
       " '100',\n",
       " '68\\nMolligan',\n",
       " '51',\n",
       " '81',\n",
       " '56\\nMansfield',\n",
       " '98',\n",
       " '28',\n",
       " '62\\nCarter',\n",
       " '71',\n",
       " '76',\n",
       " '73\\nCarey',\n",
       " '88',\n",
       " '75',\n",
       " '34\\nJones',\n",
       " '77',\n",
       " '30',\n",
       " '27\\nFoster',\n",
       " '25',\n",
       " '84',\n",
       " '99\\nChesterton',\n",
       " '57',\n",
       " '96',\n",
       " '32\\nAldridge',\n",
       " '61',\n",
       " '66',\n",
       " '38\\nLarkins',\n",
       " '43',\n",
       " '66',\n",
       " '97\\nLaird',\n",
       " '43',\n",
       " '35',\n",
       " '99\\nKennett',\n",
       " '75',\n",
       " '93',\n",
       " '32\\nMacduff',\n",
       " '63',\n",
       " '87',\n",
       " '52\\nGerald',\n",
       " '61',\n",
       " '29',\n",
       " '80\\nLongman',\n",
       " '62',\n",
       " '87',\n",
       " '40\\nDonaldson',\n",
       " '65',\n",
       " '95',\n",
       " '29\\nKelly',\n",
       " '72',\n",
       " '33',\n",
       " '97\\nThorndike',\n",
       " '34',\n",
       " '99',\n",
       " '51\\nNathan',\n",
       " '95',\n",
       " '25',\n",
       " '53\\nArthurs',\n",
       " '94',\n",
       " '26',\n",
       " '38\\nArchibald',\n",
       " '39',\n",
       " '93',\n",
       " '82\\nGoodman',\n",
       " '87',\n",
       " '55',\n",
       " '62\\nWard',\n",
       " '90',\n",
       " '43',\n",
       " '48\\nYoung',\n",
       " '66',\n",
       " '95',\n",
       " '60\\nAnderson',\n",
       " '52',\n",
       " '56',\n",
       " '42\\nBecker',\n",
       " '29',\n",
       " '76',\n",
       " '30\\nFrancis',\n",
       " '93',\n",
       " '89',\n",
       " '26\\nSalomon',\n",
       " '90',\n",
       " '66',\n",
       " '100\\nGibbs',\n",
       " '37',\n",
       " '42',\n",
       " '73\\nHaig',\n",
       " '74',\n",
       " '80',\n",
       " '59\\nGardner',\n",
       " '55',\n",
       " '55',\n",
       " '53\\nRyder',\n",
       " '79',\n",
       " '96',\n",
       " '45\\nKeat',\n",
       " '65',\n",
       " '38',\n",
       " '93\\nCreighton',\n",
       " '63',\n",
       " '39',\n",
       " '74\\nNeal',\n",
       " '87',\n",
       " '62',\n",
       " '62\\nBabcock',\n",
       " '78',\n",
       " '32',\n",
       " '34\\nDean',\n",
       " '77',\n",
       " '64',\n",
       " '76\\nThomson',\n",
       " '76',\n",
       " '80',\n",
       " '64\\nJohnson',\n",
       " '34',\n",
       " '73',\n",
       " '70\\nRichards',\n",
       " '32',\n",
       " '60',\n",
       " '49\\nClapton',\n",
       " '71',\n",
       " '49',\n",
       " '84\\nElmers',\n",
       " '41',\n",
       " '76',\n",
       " '78\\nHolmes',\n",
       " '79',\n",
       " '61',\n",
       " '30\\nWhite',\n",
       " '73',\n",
       " '48',\n",
       " '98\\nAlbertson',\n",
       " '69',\n",
       " '48',\n",
       " '65\\nMason',\n",
       " '57',\n",
       " '52',\n",
       " '93\\nPalmer',\n",
       " '82',\n",
       " '61',\n",
       " '39\\nJenkin',\n",
       " '65',\n",
       " '94',\n",
       " '97\\nMarshman',\n",
       " '45',\n",
       " '47',\n",
       " '49\\nGilmore',\n",
       " '63',\n",
       " '31',\n",
       " '77\\nMarlow',\n",
       " '76',\n",
       " '33',\n",
       " '99\\nBush',\n",
       " '70',\n",
       " '94',\n",
       " '46\\nCroftoon',\n",
       " '39',\n",
       " '94',\n",
       " '26\\nMiers',\n",
       " '75',\n",
       " '60',\n",
       " '65\\nRalphs',\n",
       " '53',\n",
       " '92',\n",
       " '28\\nDerrick',\n",
       " '33',\n",
       " '26',\n",
       " '32\\nJeff',\n",
       " '25',\n",
       " '28',\n",
       " '33\\nBacker',\n",
       " '55',\n",
       " '25',\n",
       " '66\\nSherlock',\n",
       " '85',\n",
       " '88',\n",
       " '33\\nMacAdam',\n",
       " '84',\n",
       " '91',\n",
       " '47\\nLewin',\n",
       " '90',\n",
       " '36',\n",
       " '26\\nFinch',\n",
       " '65',\n",
       " '64',\n",
       " '92\\nGill',\n",
       " '44',\n",
       " '88',\n",
       " '36\\nHardman',\n",
       " '75',\n",
       " '72',\n",
       " '67\\nQuincy',\n",
       " '51',\n",
       " '97',\n",
       " '57\\nGarrison',\n",
       " '46',\n",
       " '65',\n",
       " '30\\nGimson',\n",
       " '91',\n",
       " '59',\n",
       " '64\\nYoumans',\n",
       " '77',\n",
       " '66',\n",
       " '93\\nClifford',\n",
       " '57',\n",
       " '81',\n",
       " '50\\nBlare',\n",
       " '63',\n",
       " '90',\n",
       " '69\\nForster',\n",
       " '82',\n",
       " '72',\n",
       " '74\\nDonovan',\n",
       " '48',\n",
       " '79',\n",
       " '36\\nHailey',\n",
       " '65',\n",
       " '77',\n",
       " '39\\nBradberry',\n",
       " '61',\n",
       " '36',\n",
       " '45\\nBirch',\n",
       " '47',\n",
       " '49',\n",
       " '66\\nMiller',\n",
       " '89',\n",
       " '42',\n",
       " '60\\nCrossman',\n",
       " '99',\n",
       " '35',\n",
       " '26\\nMorrison',\n",
       " '53',\n",
       " '94',\n",
       " '92\\nAllford',\n",
       " '91',\n",
       " '28',\n",
       " '26\\nTimmons',\n",
       " '37',\n",
       " '60',\n",
       " '75\\nFraser',\n",
       " '70',\n",
       " '70',\n",
       " '62\\nDaniels',\n",
       " '87',\n",
       " '60',\n",
       " '91\\nSimpson',\n",
       " '50',\n",
       " '87',\n",
       " '76\\nMacey',\n",
       " '30',\n",
       " '46',\n",
       " '77\\nWarren',\n",
       " '54',\n",
       " '37',\n",
       " '61\\nOldman',\n",
       " '64',\n",
       " '89',\n",
       " '50\\nTaylor',\n",
       " '36',\n",
       " '64',\n",
       " '93\\nWesley',\n",
       " '72',\n",
       " '44',\n",
       " '66\\nBishop',\n",
       " '80',\n",
       " '78',\n",
       " '83\\nMacDonald',\n",
       " '27',\n",
       " '79',\n",
       " '65\\nRussel',\n",
       " '38',\n",
       " '77',\n",
       " '27\\nFleming',\n",
       " '95',\n",
       " '74',\n",
       " '39\\nSimon',\n",
       " '74',\n",
       " '60',\n",
       " '67\\nAustin',\n",
       " '72',\n",
       " '51',\n",
       " '71\\nOgden',\n",
       " '90',\n",
       " '75',\n",
       " '29\\nConors',\n",
       " '63',\n",
       " '94',\n",
       " '40\\nHiggins',\n",
       " '89',\n",
       " '34',\n",
       " '87\\nCarroll',\n",
       " '42',\n",
       " '29',\n",
       " '34\\nChandter',\n",
       " '30',\n",
       " '31',\n",
       " '88\\nWifKinson',\n",
       " '81',\n",
       " '52',\n",
       " '49\\nEvans',\n",
       " '25',\n",
       " '41',\n",
       " '45\\n']"
      ]
     },
     "execution_count": 8,
     "metadata": {},
     "output_type": "execute_result"
    }
   ],
   "source": [
    "with open(os.path.join('Downloads', 'dataset_3363_4.txt')) as inf:\n",
    "    dataset=inf.read().split(';')\n",
    "dataset"
   ]
  },
  {
   "cell_type": "code",
   "execution_count": 67,
   "metadata": {},
   "outputs": [],
   "source": [
    "\n",
    "with open(os.path.join('Downloads', 'dataset_3363_4.txt')) as inf, open(os.path.join('Downloads', 'output.txt'), 'w') as ouf:\n",
    "    value = 0\n",
    "    accumulated_math, accumulated_phy, accumulated_rus = 0, 0, 0\n",
    "    count = 0\n",
    "    #проход по всем строкам файла\n",
    "    for line in inf:\n",
    "        # убираем лишние символ в конце строки\n",
    "        count += 1\n",
    "        lst = line.strip().split(';')\n",
    "        number1, number2, number3 = int(lst[1]), int(lst[2]), int(lst[3])\n",
    "        numbers = lst[1:]\n",
    "        # проход по оценкам абитуента\n",
    "        for i in numbers:\n",
    "            number = int(i)\n",
    "            value += number\n",
    "        \n",
    "        #посчитаем среднюю для абитуриента и запись в файл\n",
    "        ouf.write(str(value / len(numbers))+'\\n')\n",
    "        value = 0\n",
    "        \n",
    "        # накапливаем сумму в переменных оценки по предметам\n",
    "        accumulated_math += number1\n",
    "        accumulated_phy += number2\n",
    "        accumulated_rus += number3\n",
    "\n",
    "    #средняя по предметам        \n",
    "    avg_math = str(accumulated_math / count)\n",
    "    avg_phy = str(accumulated_phy / count)\n",
    "    avg_rus = str(accumulated_rus / count)\n",
    "\n",
    "    #запись в файл средней оценки по предметам\n",
    "    ouf.write(avg_math + ' ')\n",
    "    ouf.write(avg_phy + ' ')\n",
    "    ouf.write(avg_rus + ' ')\n"
   ]
  },
  {
   "cell_type": "code",
   "execution_count": 4,
   "metadata": {},
   "outputs": [
    {
     "name": "stdout",
     "output_type": "stream",
     "text": [
      "/Users/antonmazilin\n"
     ]
    }
   ],
   "source": [
    "cd ~"
   ]
  },
  {
   "cell_type": "code",
   "execution_count": 5,
   "metadata": {},
   "outputs": [],
   "source": [
    "# решение чувака со степика через лист компрехеншн\n",
    "students, * points = 0, 0, 0, 0\n",
    "\n",
    "with open(os.path.join('Downloads', 'dataset_3363_4.txt')) as inf, \\\n",
    "    open(os.path.join('Downloads', 'output.txt'), 'w') as ouf:\n",
    "\n",
    "    for line in inf:\n",
    "        students += 1\n",
    "        pts = [int(line.split(';')[i]) for i in (1,2,3)]    # pts = [46, 72, 30] \\n оценки ученика\n",
    "        for i in range(3):                                  # points = [0, 0, 0]    накопительная по предметам\n",
    "            points[i] += pts[i]                             # points = [46, 72, 30] накоп по предметам\n",
    "        ouf.write(f\"{sum(pts)/3}\\n\")                        # (46+72+30)/3 \\n   запись средней по ученику\n",
    "    ouf.write(f\"{' '.join([str(p / students) for p in points])}\")   # '46/132'  средняя по предметам"
   ]
  },
  {
   "cell_type": "code",
   "execution_count": 23,
   "metadata": {},
   "outputs": [
    {
     "data": {
      "text/plain": [
       "[0, 0]"
      ]
     },
     "execution_count": 23,
     "metadata": {},
     "output_type": "execute_result"
    }
   ],
   "source": [
    "* anything, students, points = 0, 0, 0, 0\n",
    "anything"
   ]
  },
  {
   "cell_type": "markdown",
   "metadata": {},
   "source": [
    "# Модули"
   ]
  },
  {
   "cell_type": "markdown",
   "metadata": {},
   "source": [
    "3.5 Модули, подключение модулей"
   ]
  },
  {
   "cell_type": "markdown",
   "metadata": {},
   "source": [
    "Число пи"
   ]
  },
  {
   "cell_type": "code",
   "execution_count": 4,
   "metadata": {},
   "outputs": [
    {
     "name": "stdout",
     "output_type": "stream",
     "text": [
      "62.83185307179586\n"
     ]
    }
   ],
   "source": [
    "# Периметр круга: Pкруга=2πr\n",
    "\n",
    "import math\n",
    "radius = float(input())\n",
    "print(2 * math.pi*radius)"
   ]
  },
  {
   "cell_type": "code",
   "execution_count": 5,
   "metadata": {},
   "outputs": [
    {
     "name": "stdout",
     "output_type": "stream",
     "text": [
      "62.83185307179586\n"
     ]
    }
   ],
   "source": [
    "# чувак со степика говорит что tau — есть 2пи\n",
    "from math import tau\n",
    "print(float(input()) * tau)"
   ]
  },
  {
   "cell_type": "code",
   "execution_count": 10,
   "metadata": {},
   "outputs": [
    {
     "name": "stdout",
     "output_type": "stream",
     "text": [
      "454 hey-4 hey4 hey2 hey22\n"
     ]
    }
   ],
   "source": [
    "import sys\n",
    "x = ['454', '-4', '4', '2', '22']\n",
    "print(' '.join(x)) # для распечатки списка в обычные числа буквы"
   ]
  },
  {
   "cell_type": "markdown",
   "metadata": {},
   "source": [
    "# 3.6 Получение инфо по url "
   ]
  },
  {
   "cell_type": "code",
   "execution_count": 7,
   "metadata": {},
   "outputs": [],
   "source": [
    "import requests"
   ]
  },
  {
   "cell_type": "code",
   "execution_count": 86,
   "metadata": {},
   "outputs": [
    {
     "name": "stdout",
     "output_type": "stream",
     "text": [
      "https://stepic.org/media/attachments/course67/3.6.2/869.txt\n",
      "179\n"
     ]
    }
   ],
   "source": [
    "# strip чтобы убрать перенос строки \\n\n",
    "# readline прочитать файл построчно (не работает с readlines)\n",
    "# response.get(url) получить по урлу информацию страницы в html\n",
    "# splitlines разбить на строки\n",
    " \n",
    "with open(os.path.join('data', 'dataset_3378_2-3.txt')) as inf, open(os.path.join('data', 'output.txt'), 'w') as ouf:\n",
    "    lines = inf.readline().strip()\n",
    "    print(lines)\n",
    "    response = requests.get(lines)\n",
    "    length = len(response.text.splitlines())\n",
    "    print(length)\n",
    "    ouf.write(f\"{length}\")\n",
    "# /Users/antonmazilin/Study_projects/Courses/data/dataset_3378_2.txt"
   ]
  },
  {
   "cell_type": "markdown",
   "metadata": {},
   "source": [
    "## Чтение файлов. Клевая задачка с чтением и получением по url ссылки на следующий файл"
   ]
  },
  {
   "cell_type": "code",
   "execution_count": null,
   "metadata": {},
   "outputs": [],
   "source": [
    "cd .."
   ]
  },
  {
   "cell_type": "code",
   "execution_count": 13,
   "metadata": {},
   "outputs": [
    {
     "name": "stdout",
     "output_type": "stream",
     "text": [
      "213837.txt\n",
      "396639.txt\n",
      "835329.txt\n",
      "344063.txt\n",
      "194307.txt\n",
      "195211.txt\n",
      "769171.txt\n",
      "153554.txt\n",
      "680916.txt\n",
      "335636.txt\n",
      "935728.txt\n",
      "081303.txt\n",
      "792633.txt\n",
      "668368.txt\n",
      "647731.txt\n",
      "904392.txt\n",
      "684563.txt\n",
      "997337.txt\n",
      "329467.txt\n",
      "366219.txt\n",
      "730037.txt\n",
      "310230.txt\n",
      "104249.txt\n",
      "382504.txt\n",
      "433681.txt\n",
      "507359.txt\n",
      "293649.txt\n",
      "011641.txt\n",
      "717942.txt\n",
      "258080.txt\n",
      "569395.txt\n",
      "756825.txt\n",
      "921388.txt\n",
      "437007.txt\n",
      "004090.txt\n",
      "362705.txt\n",
      "145282.txt\n",
      "990216.txt\n",
      "645783.txt\n",
      "451262.txt\n",
      "193295.txt\n",
      "777343.txt\n",
      "324603.txt\n",
      "888934.txt\n",
      "138655.txt\n",
      "818396.txt\n",
      "290594.txt\n",
      "478003.txt\n",
      "276687.txt\n",
      "703763.txt\n",
      "712469.txt\n",
      "064418.txt\n",
      "246033.txt\n",
      "356768.txt\n",
      "504290.txt\n",
      "629914.txt\n",
      "062456.txt\n",
      "658472.txt\n",
      "037659.txt\n",
      "351978.txt\n",
      "523822.txt\n",
      "653493.txt\n",
      "859227.txt\n",
      "878358.txt\n",
      "944504.txt\n",
      "457602.txt\n",
      "548571.txt\n",
      "090976.txt\n",
      "965991.txt\n",
      "138128.txt\n",
      "255843.txt\n",
      "797598.txt\n",
      "640003.txt\n",
      "789435.txt\n",
      "181382.txt\n",
      "590526.txt\n",
      "430513.txt\n",
      "182774.txt\n",
      "924794.txt\n",
      "998193.txt\n",
      "770039.txt\n",
      "619504.txt\n",
      "098137.txt\n",
      "874234.txt\n",
      "476929.txt\n",
      "254654.txt\n",
      "972817.txt\n",
      "183249.txt\n",
      "231788.txt\n",
      "238807.txt\n",
      "775176.txt\n",
      "332055.txt\n",
      "971266.txt\n",
      "641342.txt\n",
      "377648.txt\n",
      "665641.txt\n",
      "120842.txt\n",
      "435728.txt\n",
      "860507.txt\n",
      "845049.txt\n",
      "103662.txt\n",
      "989375.txt\n",
      "949525.txt\n",
      "622807.txt\n",
      "441279.txt\n",
      "252484.txt\n",
      "595082.txt\n",
      "942502.txt\n",
      "544418.txt\n",
      "242071.txt\n",
      "696203.txt\n",
      "470997.txt\n",
      "858079.txt\n",
      "299971.txt\n",
      "474312.txt\n",
      "202815.txt\n",
      "192361.txt\n",
      "036087.txt\n",
      "208836.txt\n",
      "057270.txt\n",
      "414940.txt\n",
      "685551.txt\n",
      "877276.txt\n",
      "183839.txt\n",
      "681194.txt\n",
      "268115.txt\n",
      "850395.txt\n",
      "841311.txt\n",
      "318124.txt\n",
      "502298.txt\n",
      "870820.txt\n",
      "886554.txt\n",
      "874723.txt\n",
      "785247.txt\n",
      "743951.txt\n",
      "893121.txt\n",
      "493592.txt\n",
      "043302.txt\n",
      "512901.txt\n",
      "455422.txt\n",
      "405792.txt\n",
      "223561.txt\n",
      "711048.txt\n",
      "986818.txt\n",
      "919305.txt\n",
      "673023.txt\n",
      "195915.txt\n",
      "113918.txt\n",
      "829948.txt\n",
      "407495.txt\n",
      "799448.txt\n",
      "455591.txt\n",
      "046533.txt\n",
      "895838.txt\n",
      "203749.txt\n",
      "897513.txt\n",
      "023903.txt\n",
      "639854.txt\n",
      "767954.txt\n",
      "483260.txt\n",
      "305657.txt\n",
      "113973.txt\n",
      "569665.txt\n",
      "811640.txt\n",
      "627996.txt\n",
      "555691.txt\n",
      "126531.txt\n",
      "434239.txt\n",
      "812997.txt\n",
      "012540.txt\n",
      "457171.txt\n",
      "809767.txt\n",
      "113083.txt\n",
      "168190.txt\n",
      "105218.txt\n",
      "426930.txt\n",
      "839383.txt\n",
      "318610.txt\n",
      "727580.txt\n",
      "966169.txt\n",
      "633699.txt\n",
      "933699.txt\n",
      "254907.txt\n",
      "277257.txt\n",
      "105289.txt\n",
      "618947.txt\n",
      "788422.txt\n",
      "598850.txt\n",
      "218724.txt\n",
      "855788.txt\n",
      "414896.txt\n",
      "086361.txt\n",
      "259720.txt\n",
      "864746.txt\n",
      "213015.txt\n",
      "706951.txt\n",
      "790699.txt\n",
      "556965.txt\n",
      "843911.txt\n",
      "824452.txt\n",
      "558623.txt\n",
      "299517.txt\n",
      "204151.txt\n",
      "864178.txt\n",
      "001410.txt\n",
      "268784.txt\n",
      "413917.txt\n",
      "258819.txt\n",
      "694433.txt\n",
      "376424.txt\n",
      "198564.txt\n",
      "228068.txt\n",
      "417050.txt\n",
      "453058.txt\n",
      "182986.txt\n",
      "237570.txt\n",
      "680981.txt\n",
      "865546.txt\n",
      "367559.txt\n",
      "122687.txt\n",
      "783680.txt\n",
      "626200.txt\n",
      "953943.txt\n",
      "009102.txt\n",
      "882919.txt\n",
      "984198.txt\n",
      "867571.txt\n",
      "889641.txt\n",
      "223919.txt\n",
      "748056.txt\n",
      "577611.txt\n",
      "749540.txt\n",
      "536080.txt\n",
      "351770.txt\n",
      "968708.txt\n",
      "311090.txt\n",
      "239129.txt\n",
      "312237.txt\n",
      "053569.txt\n",
      "678528.txt\n",
      "767429.txt\n",
      "095729.txt\n",
      "452488.txt\n",
      "798915.txt\n",
      "426191.txt\n",
      "067336.txt\n",
      "949017.txt\n",
      "987573.txt\n",
      "843785.txt\n",
      "We are the champions, my friends,\n",
      "And we'll keep on fighting 'til the end.\n",
      "We are the champions.\n",
      "We are the champions.\n",
      "No time for losers\n",
      "'Cause we are the champions of the world.\n"
     ]
    }
   ],
   "source": [
    "with open(os.path.join('data', 'dataset_3378_3.txt')) as inf, open(os.path.join('data', 'output.txt'), 'w') as ouf:\n",
    "    url = inf.readline().strip()    # читаем строку из файла и удаляем перенос\n",
    "    txt = ''\n",
    "    while 'We' not in txt:          # пока в тексте файла не будет We продолжается цикл значение True\n",
    "        response = requests.get(url)    # получем ответ передавая новый url\n",
    "        txt = response.text           \n",
    "        print(txt)\n",
    "        # os.path.join используем для соеденения ссылки и полученного текста из файла с помощью слэшей /\n",
    "        url = os.path.join('https://stepic.org/media/attachments/course67/3.6.3/', f'{txt}')\n",
    "    ouf.write(txt)"
   ]
  },
  {
   "cell_type": "markdown",
   "metadata": {},
   "source": [
    "# 3.7 Задачи"
   ]
  },
  {
   "cell_type": "code",
   "execution_count": 4,
   "metadata": {},
   "outputs": [],
   "source": [
    "symbols_decrypt, symbols_encrypt = input(), input()"
   ]
  },
  {
   "cell_type": "code",
   "execution_count": null,
   "metadata": {},
   "outputs": [],
   "source": [
    "# 2. Запись данных в переменные\n",
    "symbols_decrypt, symbols_encrypt, str_encode, str_decode \\\n",
    "    = input('Set decrypt word'), input('Set encrypt word'), input('Set string for encode'), input('Set string for decode')\n",
    "    \n",
    "# Два правила на шифрование и дешифрование данных\n",
    "rule = dict(zip(symbols_decrypt, symbols_encrypt))\n",
    "rule_encrypt = dict(zip(symbols_encrypt, symbols_decrypt))\n",
    "# Списки в которые буду записывать результат\n",
    "new_encode, new_decode = '', ''\n",
    "\n",
    "# Цикл в котором по ключу получаю значение переменной\n",
    "for i in str_encode:\n",
    "    # Переменная i перебирает символы из строки для шифрования\n",
    "    new_encode+=rule[i]\n",
    "for i in str_decode:\n",
    "    # Переменная i перебирает символы из строки для дешифровки\n",
    "    new_decode+=rule_encrypt[i]\n",
    "print(new_encode, new_decode, sep='\\n')\n",
    "\n",
    "# encodepairs = {src[i]: trg[i] for i in range(len(src))}\n"
   ]
  },
  {
   "cell_type": "code",
   "execution_count": 54,
   "metadata": {},
   "outputs": [
    {
     "name": "stdout",
     "output_type": "stream",
     "text": [
      "*d*%*d*#*d*\n"
     ]
    }
   ],
   "source": [
    "# Решение чувака со степика через list comprehensive\n",
    "\n",
    "# symbols_decrypt, symbols_encrypt, str_encode, str_decode \\\n",
    "#     = 'abcd', '*d%#', 'abacabadaba', '#*%*d*%'\n",
    "lst = ['abcd', '*d%#', 'abacabadaba', '#*%*d*%']\n",
    "# Считываем 4 строки в цикле\n",
    "original, coding, first_string, second_string = (lst[i] for i in range(4))\n",
    "\n",
    "print(*[coding[original.find(symbol)] for symbol in first_string], sep ='')\n",
    "# # Аналогично, только наоборот :D\n",
    "print(*[original[coding.find(symbol)] for symbol in second_string], sep='')"
   ]
  },
  {
   "cell_type": "code",
   "execution_count": 17,
   "metadata": {},
   "outputs": [
    {
     "name": "stdout",
     "output_type": "stream",
     "text": [
      "20 -20"
     ]
    }
   ],
   "source": [
    "# 4. Черепашка\n",
    "# север 10, запад 20, юг 30, восток 40\n",
    "# (0, 0)\n",
    "direction = ['север', 'юг', 'запад', 'восток']\n",
    "lst = [0,0,0,0]\n",
    "dct = dict(zip(direction, lst))\n",
    "# for i in range(int(input())):\n",
    "#     x, step = input().split()\n",
    "#     dct[x] += int(step)\n",
    "for _ in range(int(input())):\n",
    "    key, value = input().split()\n",
    "    dct[key] += int(value)\n",
    "print(dct['восток']-dct['запад'], dct['север']-dct['юг'], end='')\n",
    "# y = int(input())\n",
    "\n"
   ]
  },
  {
   "cell_type": "code",
   "execution_count": 10,
   "metadata": {},
   "outputs": [
    {
     "data": {
      "text/plain": [
       "10"
      ]
     },
     "execution_count": 10,
     "metadata": {},
     "output_type": "execute_result"
    }
   ],
   "source": [
    "x = dict(zip(['sever', 'south', 'north'], [[10,2], 20, 30]))\n",
    "x['sever'][0]"
   ]
  },
  {
   "cell_type": "code",
   "execution_count": 46,
   "metadata": {},
   "outputs": [
    {
     "name": "stdout",
     "output_type": "stream",
     "text": [
      "{'stepic', 'the', 'champignons'}\n"
     ]
    }
   ],
   "source": [
    "# 3. Задание на проверку ошибок через вычитание множеств\n",
    "# почти конченное задание где проверем предложения по словарю\n",
    "\n",
    "words = []\n",
    "# sentense = []\n",
    "s = set()\n",
    "# words = {input().lower() for i in range(4)}\n",
    "for _ in range(4):\n",
    "    words.append(input().lower())\n",
    "    words_set = set(words)\n",
    "for _ in range(3):\n",
    "    sentense = (input().lower().split())\n",
    "    # list_sentense.append(sentense)\n",
    "    sentense_set = set(sentense)\n",
    "    s.update(sentense_set)\n",
    "new_set = s.difference(words)\n",
    "print(*new_set)\n"
   ]
  },
  {
   "cell_type": "code",
   "execution_count": 51,
   "metadata": {},
   "outputs": [
    {
     "name": "stdout",
     "output_type": "stream",
     "text": [
      "we champignons are stepic\n"
     ]
    }
   ],
   "source": [
    "#v2 решение чувака со Степик через дикт компрехеншн\n",
    "dictionary = {input().lower() for i in range(int(input()))} # создание словаря известных слов\n",
    "for_check = set()\n",
    "for _ in range(int(input())):   # количество предложений для проверки\n",
    "    for_check.update({i.lower() for i in input().split()}) # метод update для записи в словарь уникальных значений\n",
    "print(*for_check.difference(dictionary), sep='\\n') # вывод разницы между словарями"
   ]
  },
  {
   "cell_type": "code",
   "execution_count": null,
   "metadata": {},
   "outputs": [],
   "source": []
  }
 ],
 "metadata": {
  "kernelspec": {
   "display_name": "Python 3.9.13 64-bit ('stepik')",
   "language": "python",
   "name": "python3"
  },
  "language_info": {
   "codemirror_mode": {
    "name": "ipython",
    "version": 3
   },
   "file_extension": ".py",
   "mimetype": "text/x-python",
   "name": "python",
   "nbconvert_exporter": "python",
   "pygments_lexer": "ipython3",
   "version": "3.9.15"
  },
  "orig_nbformat": 4,
  "vscode": {
   "interpreter": {
    "hash": "db59fbb392571c5700decd10e1e5b49aa9808c9096c41985323789ff94def2fb"
   }
  }
 },
 "nbformat": 4,
 "nbformat_minor": 2
}
