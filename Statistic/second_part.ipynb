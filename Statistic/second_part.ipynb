{
 "cells": [
  {
   "cell_type": "markdown",
   "metadata": {},
   "source": [
    "# Курс по статистике на Stepik от красавы Анатолия Карпова https://stepik.org/course/76/info\n",
    "здесь собраны реализации некоторых задачек на Python"
   ]
  },
  {
   "cell_type": "code",
   "execution_count": 6,
   "metadata": {},
   "outputs": [],
   "source": [
    "# Подгружаем необходимые библиотеки\n",
    "import numpy as np\n",
    "import seaborn as sns\n",
    "import matplotlib.pyplot as plt\n",
    "import pandas as pd\n",
    "import scipy.stats as stats\n",
    "import sklearn\n",
    "# from sklearn.linear_model import LinearRegression"
   ]
  },
  {
   "cell_type": "code",
   "execution_count": 7,
   "metadata": {},
   "outputs": [
    {
     "data": {
      "text/plain": [
       "array([1, 5, 2, 7, 1, 9, 3, 8, 5, 9])"
      ]
     },
     "execution_count": 7,
     "metadata": {},
     "output_type": "execute_result"
    }
   ],
   "source": [
    "# Создаю список из чисел с помощью нампай\n",
    "sample = np.array([1,5,2,7,1,9,3,8,5,9])\n",
    "sample"
   ]
  },
  {
   "cell_type": "code",
   "execution_count": 5,
   "metadata": {},
   "outputs": [
    {
     "data": {
      "text/plain": [
       "3.1622776601683795"
      ]
     },
     "execution_count": 5,
     "metadata": {},
     "output_type": "execute_result"
    }
   ],
   "source": [
    "# считаю стандартное отклонение используя бибилиотеку numpy\n",
    "sample.std(ddof=1)\n",
    "# sample.var()"
   ]
  },
  {
   "attachments": {},
   "cell_type": "markdown",
   "metadata": {},
   "source": [
    "## 2.4 Однофакторный дисперсионный анализ реализация на пайтон"
   ]
  },
  {
   "cell_type": "code",
   "execution_count": 8,
   "metadata": {},
   "outputs": [],
   "source": [
    "# Загружаю данные эксперимента. В данных различные измерения экспрессии гена и 4х видов терапии\n",
    "URL = 'https://stepik.org/media/attachments/lesson/8083/genetherapy.csv'"
   ]
  },
  {
   "cell_type": "code",
   "execution_count": null,
   "metadata": {},
   "outputs": [],
   "source": [
    "\"\"\"\n",
    "нулевая гипотеза, что среднии экспрессии гена равны А=В=С=Д\n",
    "проверяем, есть ли различия между ними\n",
    "\"\"\""
   ]
  },
  {
   "cell_type": "code",
   "execution_count": 2,
   "metadata": {},
   "outputs": [
    {
     "name": "stdout",
     "output_type": "stream",
     "text": [
      "<class 'pandas.core.frame.DataFrame'>\n",
      "RangeIndex: 60 entries, 0 to 59\n",
      "Data columns (total 2 columns):\n",
      " #   Column   Non-Null Count  Dtype \n",
      "---  ------   --------------  ----- \n",
      " 0   expr     60 non-null     int64 \n",
      " 1   Therapy  60 non-null     object\n",
      "dtypes: int64(1), object(1)\n",
      "memory usage: 1.1+ KB\n",
      "    expr Therapy\n",
      "0    100       A\n",
      "1     96       A\n",
      "2    101       A\n",
      "3     95       A\n",
      "4    103       A\n",
      "5     99       A\n",
      "6     97       A\n",
      "7     96       A\n",
      "8     98       A\n",
      "9    106       A\n",
      "10   106       A\n",
      "11   104       A\n",
      "12    95       A\n",
      "13    95       A\n",
      "14   105       A\n",
      "15   100       B\n",
      "16   100       B\n",
      "17    95       B\n",
      "18    84       B\n",
      "19   101       B\n",
      "20   101       B\n",
      "21    95       B\n",
      "22   106       B\n",
      "23   105       B\n",
      "24    97       B\n",
      "25   103       B\n",
      "26    94       B\n",
      "27    94       B\n",
      "28   100       B\n",
      "29   107       B\n",
      "30    91       C\n",
      "31    96       C\n",
      "32    94       C\n",
      "33    96       C\n",
      "34    91       C\n",
      "35    85       C\n",
      "36    98       C\n",
      "37    93       C\n",
      "38   100       C\n",
      "39    85       C\n",
      "40   101       C\n",
      "41   101       C\n",
      "42    90       C\n",
      "43    98       C\n",
      "44    97       C\n",
      "45    92       D\n",
      "46    85       D\n",
      "47    95       D\n",
      "48    89       D\n",
      "49    91       D\n",
      "50    91       D\n",
      "51    99       D\n",
      "52    94       D\n",
      "53    97       D\n",
      "54    94       D\n",
      "55    87       D\n",
      "56    93       D\n",
      "57    96       D\n",
      "58    92       D\n",
      "59    90       D None\n"
     ]
    },
    {
     "data": {
      "text/plain": [
       "F_onewayResult(statistic=8.03730248114399, pvalue=0.00015249722895229536)"
      ]
     },
     "execution_count": 2,
     "metadata": {},
     "output_type": "execute_result"
    }
   ],
   "source": [
    "data = pd.read_csv(URL)\n",
    "print(data, data.info())\n",
    "A = data[data[\"Therapy\"] == \"A\"][\"expr\"]\n",
    "B = data[data[\"Therapy\"] == \"B\"][\"expr\"]\n",
    "C = data[data[\"Therapy\"] == \"C\"][\"expr\"]\n",
    "D = data[data[\"Therapy\"] == \"D\"][\"expr\"]\n",
    "\n",
    "stats.f_oneway(A, B, C, D)\n",
    "\n",
    "#Получается результат:\n",
    "#F_onewayResult(statistic=8.0373024811439908, pvalue=0.00015249722895229536)﻿"
   ]
  },
  {
   "cell_type": "markdown",
   "metadata": {},
   "source": [
    "## расчет корреляции двух переменных"
   ]
  },
  {
   "cell_type": "code",
   "execution_count": 4,
   "metadata": {},
   "outputs": [
    {
     "name": "stdout",
     "output_type": "stream",
     "text": [
      "[4 5 2 3 1] [2 1 4 3 5] "
     ]
    }
   ],
   "source": [
    "# Создаю два списка переменных\n",
    "x = np.array([4, 5, 2, 3, 1])\n",
    "y = np.array([2, 1, 4, 3, 5])\n",
    "print(x, y, end=' ')\n",
    "r = stats.pearsonr(x, y) "
   ]
  },
  {
   "cell_type": "code",
   "execution_count": 5,
   "metadata": {},
   "outputs": [
    {
     "data": {
      "text/plain": [
       "Text(2, 4.9, 'r = PearsonRResult(statistic=-1.0, pvalue=0.0)')"
      ]
     },
     "execution_count": 5,
     "metadata": {},
     "output_type": "execute_result"
    },
    {
     "data": {
      "image/png": "[encoded data removed]",
      "text/plain": [
       "<Figure size 640x480 with 1 Axes>"
      ]
     },
     "metadata": {},
     "output_type": "display_data"
    }
   ],
   "source": [
    "#построение визуализации\n",
    "#create scatterplot\n",
    "sns.scatterplot(x=x, y=y)\n",
    "\n",
    "#add correlation coefficient to plot\n",
    "plt.text(2, 4.9, 'r = ' + str(r), fontsize=11)"
   ]
  },
  {
   "cell_type": "markdown",
   "metadata": {},
   "source": [
    "# Регрессионный анализ"
   ]
  },
  {
   "cell_type": "code",
   "execution_count": 11,
   "metadata": {},
   "outputs": [],
   "source": [
    "# Загружаю данные о штатах Америки и некоторых особенностей\n",
    "URL = 'http://d396qusza40orc.cloudfront.net/statistics/lec_resources/states.csv'"
   ]
  },
  {
   "cell_type": "code",
   "execution_count": 15,
   "metadata": {},
   "outputs": [
    {
     "name": "stdout",
     "output_type": "stream",
     "text": [
      "<class 'pandas.core.frame.DataFrame'>\n",
      "RangeIndex: 51 entries, 0 to 50\n",
      "Data columns (total 6 columns):\n",
      " #   Column        Non-Null Count  Dtype  \n",
      "---  ------        --------------  -----  \n",
      " 0   state         51 non-null     object \n",
      " 1   metro_res     51 non-null     float64\n",
      " 2   white         51 non-null     float64\n",
      " 3   hs_grad       51 non-null     float64\n",
      " 4   poverty       51 non-null     float64\n",
      " 5   female_house  51 non-null     float64\n",
      "dtypes: float64(5), object(1)\n",
      "memory usage: 2.5+ KB\n",
      "                    state  metro_res  white  hs_grad  poverty  female_house\n",
      "0                 Alabama       55.4   71.3     79.9     14.6          14.2\n",
      "1                  Alaska       65.6   70.8     90.6      8.3          10.8\n",
      "2                 Arizona       88.2   87.7     83.8     13.3          11.1\n",
      "3                Arkansas       52.5   81.0     80.9     18.0          12.1\n",
      "4              California       94.4   77.5     81.1     12.8          12.6\n",
      "5                Colorado       84.5   90.2     88.7      9.4           9.6\n",
      "6             Connecticut       87.7   85.4     87.5      7.8          12.1\n",
      "7                Delaware       80.1   76.3     88.7      8.1          13.1\n",
      "8   District  of Columbia      100.0   36.2     86.0     16.8          18.9\n",
      "9                 Florida       89.3   80.6     84.7     12.1          12.0\n",
      "10                Georgia       71.6   67.5     85.1     12.1          14.5\n",
      "11                 Hawaii       91.5   25.9     88.5     10.6          12.4\n",
      "12                  Idaho       66.4   95.5     88.2     11.8           8.7\n",
      "13               Illinois       87.8   79.5     85.9     11.2          12.3\n",
      "14                Indiana       70.8   88.9     86.4      8.7          11.1\n",
      "15                   Iowa       61.1   94.9     89.7      8.3           8.6\n",
      "16                 Kansas       71.4   89.3     88.6      9.4           9.3\n",
      "17               Kentucky       55.8   90.3     82.8     13.1          11.8\n",
      "18              Louisiana       72.6   64.2     79.8     17.0          16.6\n",
      "19                  Maine       40.2   97.1     86.6     11.3           9.5\n",
      "20               Maryland       86.1   65.6     87.6      7.3          14.1\n",
      "21          Massachusetts       91.4   87.2     87.1      9.6          11.9\n",
      "22               Michigan       74.7   81.5     87.6     10.3          12.5\n",
      "23              Minnesota       70.9   90.2     91.6      6.5           8.9\n",
      "24            Mississippi       48.8   61.2     81.2     17.6          17.3\n",
      "25               Missouri       69.4   85.3     88.3      9.6          11.6\n",
      "26                Montana       54.1   90.9     90.1     13.7           8.9\n",
      "27               Nebraska       69.8   92.1     90.8      9.5           9.1\n",
      "28                 Nevada       91.5   84.1     85.6      8.3          11.1\n",
      "29         New  Hampshire       59.3   96.3     92.1      5.6           9.1\n",
      "30             New Jersey       94.4   77.3     86.2      7.8          12.6\n",
      "31             New Mexico       75.0   84.9     81.7     17.8          13.2\n",
      "32               New York       87.5   73.6     84.2     14.0          14.7\n",
      "33        North  Carolina       60.2   74.1     81.4     13.1          12.5\n",
      "34           North Dakota       55.9   92.5     89.7     11.9           7.8\n",
      "35                   Ohio       77.4   85.4     87.2     10.1          12.1\n",
      "36               Oklahoma       65.3   78.4     85.7     14.7          11.4\n",
      "37                 Oregon       78.7   90.8     86.9     11.2           9.8\n",
      "38           Pennsylvania       77.1   86.4     86.0      9.2          11.6\n",
      "39           Rhode Island       90.9   89.2     81.0     10.3          12.9\n",
      "40        South  Carolina       60.5   67.7     80.8     13.5          14.8\n",
      "41           South Dakota       51.9   88.8     88.7     10.2           9.0\n",
      "42              Tennessee       63.6   80.8     81.0     14.2          12.9\n",
      "43                  Texas       82.5   83.6     77.2     15.3          12.7\n",
      "44                   Utah       88.2   93.6     89.4      9.3           9.4\n",
      "45                Vermont       38.2   96.9     88.9      9.9           9.3\n",
      "46               Virginia       73.0   73.9     87.8      8.7          11.9\n",
      "47             Washington       82.0   85.5     89.1     10.8           9.9\n",
      "48         West  Virginia       46.1   95.0     78.7     16.0          10.7\n",
      "49              Wisconsin       68.3   90.1     88.6      8.6           9.6\n",
      "50                Wyoming       65.1   94.7     90.9      9.5           8.7 None\n"
     ]
    }
   ],
   "source": [
    "data = pd.read_csv(URL)\n",
    "print(data, data.info())"
   ]
  },
  {
   "cell_type": "code",
   "execution_count": 16,
   "metadata": {},
   "outputs": [
    {
     "name": "stdout",
     "output_type": "stream",
     "text": [
      "count    51.000000\n",
      "mean     11.349020\n",
      "std       3.099185\n",
      "min       5.600000\n",
      "25%       9.250000\n",
      "50%      10.600000\n",
      "75%      13.400000\n",
      "max      18.000000\n",
      "Name: poverty, dtype: float64 count    51.000000\n",
      "mean     86.011765\n",
      "std       3.725998\n",
      "min      77.200000\n",
      "25%      83.300000\n",
      "50%      86.900000\n",
      "75%      88.700000\n",
      "max      92.100000\n",
      "Name: hs_grad, dtype: float64\n"
     ]
    }
   ],
   "source": [
    "print(data['poverty'].describe(), data['hs_grad'].describe())"
   ]
  },
  {
   "cell_type": "code",
   "execution_count": 13,
   "metadata": {},
   "outputs": [
    {
     "data": {
      "text/plain": [
       "PearsonRResult(statistic=-0.7468582531582508, pvalue=3.108829810318333e-10)"
      ]
     },
     "execution_count": 13,
     "metadata": {},
     "output_type": "execute_result"
    }
   ],
   "source": [
    "stats.pearsonr(data['poverty'], data['hs_grad'])"
   ]
  },
  {
   "cell_type": "code",
   "execution_count": 18,
   "metadata": {},
   "outputs": [
    {
     "data": {
      "text/plain": [
       "<seaborn.axisgrid.JointGrid at 0x135eeca00>"
      ]
     },
     "execution_count": 18,
     "metadata": {},
     "output_type": "execute_result"
    },
    {
     "data": {
      "image/png": "[encoded data removed]",
      "text/plain": [
       "<Figure size 600x600 with 3 Axes>"
      ]
     },
     "metadata": {},
     "output_type": "display_data"
    }
   ],
   "source": [
    "# Построение диаграммы корреляции высшего образования с уровнем бедности\n",
    "sns.jointplot(x=data['hs_grad'], y=data['poverty'], data=data, kind='reg', color='b')"
   ]
  },
  {
   "cell_type": "code",
   "execution_count": 19,
   "metadata": {},
   "outputs": [
    {
     "name": "stdout",
     "output_type": "stream",
     "text": [
      "26.340000000000003\n"
     ]
    }
   ],
   "source": [
    "poverty = 64.78-0.62*62\n",
    "print(poverty)"
   ]
  },
  {
   "cell_type": "markdown",
   "metadata": {},
   "source": [
    "## построение модели линейной регресси"
   ]
  },
  {
   "cell_type": "code",
   "execution_count": null,
   "metadata": {},
   "outputs": [],
   "source": [
    "# импорт модели линейоной регрессии\n",
    "from sklearn.linear_model import LinearRegression"
   ]
  },
  {
   "cell_type": "code",
   "execution_count": 36,
   "metadata": {},
   "outputs": [
    {
     "name": "stdout",
     "output_type": "stream",
     "text": [
      "[[79.9]\n",
      " [90.6]\n",
      " [83.8]\n",
      " [80.9]\n",
      " [81.1]\n",
      " [88.7]\n",
      " [87.5]\n",
      " [88.7]\n",
      " [86. ]\n",
      " [84.7]\n",
      " [85.1]\n",
      " [88.5]\n",
      " [88.2]\n",
      " [85.9]\n",
      " [86.4]\n",
      " [89.7]\n",
      " [88.6]\n",
      " [82.8]\n",
      " [79.8]\n",
      " [86.6]\n",
      " [87.6]\n",
      " [87.1]\n",
      " [87.6]\n",
      " [91.6]\n",
      " [81.2]\n",
      " [88.3]\n",
      " [90.1]\n",
      " [90.8]\n",
      " [85.6]\n",
      " [92.1]\n",
      " [86.2]\n",
      " [81.7]\n",
      " [84.2]\n",
      " [81.4]\n",
      " [89.7]\n",
      " [87.2]\n",
      " [85.7]\n",
      " [86.9]\n",
      " [86. ]\n",
      " [81. ]\n",
      " [80.8]\n",
      " [88.7]\n",
      " [81. ]\n",
      " [77.2]\n",
      " [89.4]\n",
      " [88.9]\n",
      " [87.8]\n",
      " [89.1]\n",
      " [78.7]\n",
      " [88.6]\n",
      " [90.9]] [14.6  8.3 13.3 18.  12.8  9.4  7.8  8.1 16.8 12.1 12.1 10.6 11.8 11.2\n",
      "  8.7  8.3  9.4 13.1 17.  11.3  7.3  9.6 10.3  6.5 17.6  9.6 13.7  9.5\n",
      "  8.3  5.6  7.8 17.8 14.  13.1 11.9 10.1 14.7 11.2  9.2 10.3 13.5 10.2\n",
      " 14.2 15.3  9.3  9.9  8.7 10.8 16.   8.6  9.5] "
     ]
    }
   ],
   "source": [
    "# задание зависимой и независимой переменых \n",
    "x = np.array(data['hs_grad']).reshape((-1,1))\n",
    "y = np.array(data['poverty'])\n",
    "print(x, y, end=' ')"
   ]
  },
  {
   "cell_type": "code",
   "execution_count": 37,
   "metadata": {},
   "outputs": [],
   "source": [
    "# обучение модели\n",
    "model = LinearRegression().fit(x, y)"
   ]
  },
  {
   "cell_type": "code",
   "execution_count": 39,
   "metadata": {},
   "outputs": [
    {
     "name": "stdout",
     "output_type": "stream",
     "text": [
      "coefficient of determination:  0.5577972503105937\n"
     ]
    }
   ],
   "source": [
    "# валидация\n",
    "r_sq = model.score(x, y)\n",
    "print('coefficient of determination: ', r_sq)"
   ]
  },
  {
   "cell_type": "code",
   "execution_count": 51,
   "metadata": {},
   "outputs": [
    {
     "name": "stdout",
     "output_type": "stream",
     "text": [
      "regression model is: y = 64.7809657701021 + [-0.62121672] * x\n"
     ]
    }
   ],
   "source": [
    "print(f'regression model is: y = {model.intercept_} + {model.coef_} * x')"
   ]
  },
  {
   "cell_type": "code",
   "execution_count": 44,
   "metadata": {},
   "outputs": [
    {
     "name": "stdout",
     "output_type": "stream",
     "text": [
      "[[62]]\n"
     ]
    }
   ],
   "source": [
    "x_new = np.array(62).reshape((-1, 1))\n",
    "print(x_new)"
   ]
  },
  {
   "cell_type": "code",
   "execution_count": 45,
   "metadata": {},
   "outputs": [],
   "source": [
    "y_pred = model.predict(x_new)"
   ]
  },
  {
   "cell_type": "code",
   "execution_count": 49,
   "metadata": {},
   "outputs": [
    {
     "name": "stdout",
     "output_type": "stream",
     "text": [
      "predicted response: [26.26552927]\n"
     ]
    }
   ],
   "source": [
    "print('predicted response:', y_pred, sep=' ')"
   ]
  },
  {
   "cell_type": "markdown",
   "metadata": {},
   "source": [
    "## calculate poverty manually"
   ]
  },
  {
   "cell_type": "code",
   "execution_count": 23,
   "metadata": {},
   "outputs": [],
   "source": [
    "b0 = 68.7\n",
    "b1 = -0.06\n",
    "b2 = -0.05\n",
    "b3 = -0.57\n",
    "hs_grad = 90\n",
    "metro_res = 80\n",
    "white = 50"
   ]
  },
  {
   "cell_type": "code",
   "execution_count": 24,
   "metadata": {},
   "outputs": [
    {
     "name": "stdout",
     "output_type": "stream",
     "text": [
      "10.400000000000006\n"
     ]
    }
   ],
   "source": [
    "# Прогнозирование уровня бедности по зависимым переменным\n",
    "Y = b0 + b1*white + b2*metro_res + b3*hs_grad\n",
    "print(Y)"
   ]
  },
  {
   "cell_type": "markdown",
   "metadata": {},
   "source": [
    "# calculate promo of film\n",
    "**Построенние регрессионной модели по собранным данным**"
   ]
  },
  {
   "cell_type": "code",
   "execution_count": 20,
   "metadata": {},
   "outputs": [],
   "source": [
    "b0 = 7.68\n",
    "b1 = 3.66\n",
    "b2 = 7.62\n",
    "b3 = 0.82\n",
    "cost = 10\n",
    "books = 8\n",
    "receipts = 150"
   ]
  },
  {
   "cell_type": "code",
   "execution_count": 21,
   "metadata": {},
   "outputs": [
    {
     "name": "stdout",
     "output_type": "stream",
     "text": [
      "13.013123359580051\n"
     ]
    }
   ],
   "source": [
    "# подсчёт независимой переменной вручную\n",
    "# receipts = b0 + b1*cost + b2*promo + b3*books\n",
    "promo = -((b0 + b1*cost + b3*books) - receipts)/b2\n",
    "print(promo)"
   ]
  },
  {
   "cell_type": "code",
   "execution_count": null,
   "metadata": {},
   "outputs": [],
   "source": [
    "promo = 7.68+3.66*10"
   ]
  }
 ],
 "metadata": {
  "kernelspec": {
   "display_name": "Python 3",
   "language": "python",
   "name": "python3"
  },
  "language_info": {
   "codemirror_mode": {
    "name": "ipython",
    "version": 3
   },
   "file_extension": ".py",
   "mimetype": "text/x-python",
   "name": "python",
   "nbconvert_exporter": "python",
   "pygments_lexer": "ipython3",
   "version": "3.9.15"
  },
  "orig_nbformat": 4
 },
 "nbformat": 4,
 "nbformat_minor": 2
}
